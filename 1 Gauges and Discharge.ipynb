{
 "cells": [
  {
   "cell_type": "markdown",
   "metadata": {},
   "source": [
    "# Tutorial in Hydrology\n",
    "## Gauges, Discharge and Water Balance\n",
    "\n",
    "This is a first tutorial in Hydrology. The notebook shall motivate the use of computer skripting languages to solve tasks in calculations, data analysis and modelling. It is an optional and voluntary extension of the exercises held at KIT.\n",
    "\n",
    "To get started with Python yourself, you may use the anaconda package https://www.continuum.io/downloads. A Quickstart tutorial for installing and starting is given here: http://conda.pydata.org/docs/get-started.html\n",
    "\n",
    "(cc) jackisch@kit.edu"
   ]
  },
  {
   "cell_type": "code",
   "execution_count": 1,
   "metadata": {},
   "outputs": [
    {
     "name": "stdout",
     "output_type": "stream",
     "text": [
      "Populating the interactive namespace from numpy and matplotlib\n"
     ]
    }
   ],
   "source": [
    "#load required packages\n",
    "import numpy as np\n",
    "import pandas as pd\n",
    "import scipy.stats as st\n",
    "import scipy.optimize as so\n",
    "%pylab inline\n",
    "\n",
    "#these can be used to get nicer graphics\n",
    "#import seaborn as sns\n",
    "#sns.set(style='whitegrid', palette='deep')\n",
    "#matplotlib.rcParams['svg.fonttype'] = 'none'"
   ]
  },
  {
   "cell_type": "markdown",
   "metadata": {},
   "source": [
    "## Rating Curve\n",
    "\n",
    "At gauges rarely flux is measured directly. In most cases, the water level is monitored. This exercise will derive rating curves for some gauge station based on discharge measurements and known water levels."
   ]
  },
  {
   "cell_type": "code",
   "execution_count": 2,
   "metadata": {},
   "outputs": [
    {
     "data": {
      "text/plain": [
       "array(['Colpach', 'Huewelerbach', 'Useldange', 'Weierbach'], dtype=object)"
      ]
     },
     "execution_count": 2,
     "metadata": {},
     "output_type": "execute_result"
    }
   ],
   "source": [
    "#read data\n",
    "RC_attert = pd.read_csv('rating_curve_HQ.csv')\n",
    "\n",
    "#print the observed gauges\n",
    "RC_attert.Gauge.unique()"
   ]
  },
  {
   "cell_type": "markdown",
   "metadata": {},
   "source": [
    "We will now take the Colpach as an example for the derivation of a rating curve. At first, we plot the data to see what we have got."
   ]
  },
  {
   "cell_type": "code",
   "execution_count": 3,
   "metadata": {},
   "outputs": [
    {
     "data": {
      "text/plain": [
       "Text(0.5,1,'Rating Curve Colpach - measured')"
      ]
     },
     "execution_count": 3,
     "metadata": {},
     "output_type": "execute_result"
    },
    {
     "data": {
      "image/png": "[encoded data removed]",
      "text/plain": [
       "<matplotlib.figure.Figure at 0x10aeb00f0>"
      ]
     },
     "metadata": {},
     "output_type": "display_data"
    }
   ],
   "source": [
    "#Colpach example\n",
    "RC_dummy = RC_attert.loc[RC_attert.Gauge=='Colpach']\n",
    "plot(RC_dummy.Level,RC_dummy.Q_m3s,'o')\n",
    "xlabel('Water Level [cm]')\n",
    "ylabel('Measured Discharge [m3/s]')\n",
    "title('Rating Curve Colpach - measured')"
   ]
  },
  {
   "cell_type": "markdown",
   "metadata": {},
   "source": [
    "A rating curve is nothing else than a regression function of such observations. It can then be used to calculate flow from any recorded water level.\n",
    "\n",
    "Obviously, this is some kind of exponential equation. Thus we will try to fit a rating curve of the following form:\n",
    "\n",
    "$Q  = a*(H-c_{offset})^b$ \n",
    "\n",
    "*Note, that this is a more sophisticated function compared to the manual linear regression in the exercise.*"
   ]
  },
  {
   "cell_type": "markdown",
   "metadata": {},
   "source": [
    "For the gauges you receive the values for $c_{offset}$:\n",
    "* Colpach 11.\n",
    "* Weierbach 10.2\n",
    "* Useldange 5.\n",
    "* Huewelerbach 8."
   ]
  },
  {
   "cell_type": "code",
   "execution_count": 4,
   "metadata": {},
   "outputs": [
    {
     "name": "stderr",
     "output_type": "stream",
     "text": [
      "/Users/cojack/miniconda3/lib/python3.6/site-packages/ipykernel_launcher.py:7: RuntimeWarning: invalid value encountered in power\n",
      "  import sys\n"
     ]
    },
    {
     "data": {
      "text/plain": [
       "Text(0.5,1,'Rating Curve Colpach')"
      ]
     },
     "execution_count": 4,
     "metadata": {},
     "output_type": "execute_result"
    },
    {
     "data": {
      "image/png": "[encoded data removed]",
      "text/plain": [
       "<matplotlib.figure.Figure at 0x106ac5080>"
      ]
     },
     "metadata": {},
     "output_type": "display_data"
    }
   ],
   "source": [
    "#We define the function as above\n",
    "def RCf_fixc(H,a,b):\n",
    "    #Calculate flux [m3/s] from a given water level [cm]\n",
    "    #we convert H and c to meters\n",
    "    #c is given\n",
    "    c=11.\n",
    "    return a*((H-c)/100.)**b\n",
    "\n",
    "#def RCf(H,a,b,c):\n",
    "    #Calculate flux [m3/s] from a given water level [cm]\n",
    "    #we convert H and c to meters\n",
    "    #c is not given\n",
    "    #return a*((H-c)/100.)**b\n",
    "\n",
    "\n",
    "#Fit the curve using \n",
    "opt, covar = so.curve_fit(RCf_fixc, RC_dummy.Level,RC_dummy.Q_m3s,maxfev = 100000)\n",
    "\n",
    "plot(RC_dummy.Level,RC_dummy.Q_m3s,'.',label='measured')\n",
    "dummy_range = np.arange(100)\n",
    "plot(dummy_range,RCf_fixc(dummy_range,opt[0],opt[1]),'-',label='fitted')\n",
    "text(20,5,''.join(['a = ',str(np.round(opt[0],2)),'\\nb = ',str(np.round(opt[1],2))]))\n",
    "legend(loc=2)\n",
    "xlabel('Water Level [cm]')\n",
    "ylabel('Measured Discharge [m3/s]')\n",
    "title('Rating Curve Colpach')\n"
   ]
  },
  {
   "cell_type": "code",
   "execution_count": 5,
   "metadata": {},
   "outputs": [
    {
     "name": "stderr",
     "output_type": "stream",
     "text": [
      "/Users/cojack/miniconda3/lib/python3.6/site-packages/ipykernel_launcher.py:5: RuntimeWarning: invalid value encountered in power\n",
      "  \"\"\"\n",
      "/Users/cojack/miniconda3/lib/python3.6/site-packages/ipykernel_launcher.py:7: RuntimeWarning: invalid value encountered in power\n",
      "  import sys\n",
      "/Users/cojack/miniconda3/lib/python3.6/site-packages/ipykernel_launcher.py:13: RuntimeWarning: invalid value encountered in power\n",
      "  del sys.path[0]\n"
     ]
    },
    {
     "data": {
      "text/plain": [
       "Text(0.5,1,'Huewelerbach')"
      ]
     },
     "execution_count": 5,
     "metadata": {},
     "output_type": "execute_result"
    },
    {
     "data": {
      "image/png": "[encoded data removed]",
      "text/plain": [
       "<matplotlib.figure.Figure at 0x10aeb0048>"
      ]
     },
     "metadata": {},
     "output_type": "display_data"
    }
   ],
   "source": [
    "#Let's do that for all gauges:\n",
    "\n",
    "def RCf_fixw(H,a,b):\n",
    "    c=10.2\n",
    "    return a*((H-c)/100.)**b\n",
    "\n",
    "def RCf_fixu(H,a,b):\n",
    "    c=5.\n",
    "    return a*((H-c)/100.)**b\n",
    "\n",
    "def RCf_fixh(H,a,b):\n",
    "    c=8.\n",
    "    return a*((H-c)/100.)**b\n",
    "\n",
    "\n",
    "\n",
    "#Fit the curves\n",
    "RC_dummy=RC_attert.loc[RC_attert.Gauge=='Weierbach']\n",
    "opt_w, covar_w = so.curve_fit(RCf_fixw, RC_dummy.Level,RC_dummy.Q_m3s,maxfev = 100000)\n",
    "\n",
    "subplot(131)\n",
    "plot(RC_dummy.Level,RC_dummy.Q_m3s,'.',label='measured')\n",
    "dummy_range = np.arange(35)\n",
    "plot(dummy_range,RCf_fixw(dummy_range,opt_w[0],opt_w[1]),'-',label='fitted')\n",
    "text(15,0.03,''.join(['a = ',str(np.round(opt_w[0],2)),'\\nb = ',str(np.round(opt_w[1],2))]))\n",
    "#legend(loc=2)\n",
    "xlabel('Water Level [cm]')\n",
    "ylabel('Measured Discharge [m3/s]')\n",
    "title('Weierbach')\n",
    "\n",
    "\n",
    "RC_dummy=RC_attert.loc[RC_attert.Gauge=='Useldange']\n",
    "opt_u, covar_u = so.curve_fit(RCf_fixu, RC_dummy.Level,RC_dummy.Q_m3s,maxfev = 100000)\n",
    "\n",
    "subplot(132)\n",
    "plot(RC_dummy.Level,RC_dummy.Q_m3s,'.',label='measured')\n",
    "dummy_range = np.arange(250)\n",
    "plot(dummy_range,RCf_fixc(dummy_range,opt_u[0],opt_u[1]),'-',label='fitted')\n",
    "text(20,60,''.join(['a = ',str(np.round(opt_u[0],2)),'\\nb = ',str(np.round(opt_u[1],2))]))\n",
    "#legend(loc=2)\n",
    "xlabel('Water Level [cm]')\n",
    "#ylabel('Measured Discharge [m3/s]')\n",
    "title('Useldange')\n",
    "\n",
    "\n",
    "RC_dummy=RC_attert.loc[RC_attert.Gauge=='Huewelerbach']\n",
    "opt_h, covar_h = so.curve_fit(RCf_fixh, RC_dummy.Level,RC_dummy.Q_m3s,maxfev = 100000)\n",
    "\n",
    "subplot(133)\n",
    "plot(RC_dummy.Level,RC_dummy.Q_m3s,'.',label='measured')\n",
    "dummy_range = np.arange(30)\n",
    "plot(dummy_range,RCf_fixh(dummy_range,opt_h[0],opt_h[1]),'-',label='fitted')\n",
    "text(10,0.2,''.join(['a = ',str(np.round(opt_h[0],2)),'\\nb = ',str(np.round(opt_h[1],2))]))\n",
    "#legend(loc=2)\n",
    "xlabel('Water Level [cm]')\n",
    "#ylabel('Measured Discharge [m3/s]')\n",
    "title('Huewelerbach')\n",
    "\n",
    "\n",
    "\n"
   ]
  },
  {
   "cell_type": "code",
   "execution_count": 6,
   "metadata": {},
   "outputs": [],
   "source": [
    "#now we can define our rating curve function for the gauge \"Colpach\"\n",
    "def RCf_colpach(H):\n",
    "    #Calculate flux [m3/s] from a given water level [cm] at gauge Colpach\n",
    "    c=11.\n",
    "    a=opt[0]\n",
    "    b=opt[1]\n",
    "    return a*((H-c)/100.)**b\n",
    "\n",
    "def RCf_weierbach(H):\n",
    "    c=10.2\n",
    "    a=opt_w[0]\n",
    "    b=opt_w[1]\n",
    "    return a*((H-c)/100.)**b\n",
    "\n",
    "def RCf_useldange(H):\n",
    "    c=5.\n",
    "    a=opt_u[0]\n",
    "    b=opt_u[1]\n",
    "    return a*((H-c)/100.)**b\n",
    "\n",
    "def RCf_huewelerbach(H):\n",
    "    c=8.\n",
    "    a=opt_h[0]\n",
    "    b=opt_h[1]\n",
    "    return a*((H-c)/100.)**b\n",
    "\n"
   ]
  },
  {
   "cell_type": "markdown",
   "metadata": {},
   "source": [
    "Now we have the tools to apply the rating curves to the measured gauges.\n",
    "\n",
    "We will read a file with some observation time series and apply our functions:"
   ]
  },
  {
   "cell_type": "code",
   "execution_count": 7,
   "metadata": {},
   "outputs": [
    {
     "name": "stdout",
     "output_type": "stream",
     "text": [
      "These are measured water levels in cm:\n"
     ]
    },
    {
     "data": {
      "text/html": [
       "<div>\n",
       "<table border=\"1\" class=\"dataframe\">\n",
       "  <thead>\n",
       "    <tr style=\"text-align: right;\">\n",
       "      <th></th>\n",
       "      <th>Colpach</th>\n",
       "      <th>Weierbach</th>\n",
       "      <th>Useldange</th>\n",
       "      <th>Huewelerbach</th>\n",
       "    </tr>\n",
       "  </thead>\n",
       "  <tbody>\n",
       "    <tr>\n",
       "      <th>2010-11-01 00:00:00</th>\n",
       "      <td>18.439396</td>\n",
       "      <td>14.223472</td>\n",
       "      <td>19.314814</td>\n",
       "      <td>10.187419</td>\n",
       "    </tr>\n",
       "    <tr>\n",
       "      <th>2010-11-01 00:15:00</th>\n",
       "      <td>18.519499</td>\n",
       "      <td>13.864206</td>\n",
       "      <td>19.314814</td>\n",
       "      <td>10.187419</td>\n",
       "    </tr>\n",
       "    <tr>\n",
       "      <th>2010-11-01 00:30:00</th>\n",
       "      <td>18.519499</td>\n",
       "      <td>13.864206</td>\n",
       "      <td>19.314814</td>\n",
       "      <td>10.187419</td>\n",
       "    </tr>\n",
       "    <tr>\n",
       "      <th>2010-11-01 00:45:00</th>\n",
       "      <td>18.519499</td>\n",
       "      <td>13.864206</td>\n",
       "      <td>19.314814</td>\n",
       "      <td>10.187419</td>\n",
       "    </tr>\n",
       "    <tr>\n",
       "      <th>2010-11-01 01:00:00</th>\n",
       "      <td>18.439396</td>\n",
       "      <td>13.864206</td>\n",
       "      <td>19.314814</td>\n",
       "      <td>10.187419</td>\n",
       "    </tr>\n",
       "  </tbody>\n",
       "</table>\n",
       "</div>"
      ],
      "text/plain": [
       "                       Colpach  Weierbach  Useldange  Huewelerbach\n",
       "2010-11-01 00:00:00  18.439396  14.223472  19.314814     10.187419\n",
       "2010-11-01 00:15:00  18.519499  13.864206  19.314814     10.187419\n",
       "2010-11-01 00:30:00  18.519499  13.864206  19.314814     10.187419\n",
       "2010-11-01 00:45:00  18.519499  13.864206  19.314814     10.187419\n",
       "2010-11-01 01:00:00  18.439396  13.864206  19.314814     10.187419"
      ]
     },
     "execution_count": 7,
     "metadata": {},
     "output_type": "execute_result"
    }
   ],
   "source": [
    "#read file:\n",
    "GA = pd.read_csv('Gauges_Attert.csv')\n",
    "#define time stamp as index\n",
    "GA.index=pd.to_datetime(GA.iloc[:,0].values)\n",
    "#drop old time stamp column\n",
    "GA=GA.drop('Unnamed: 0',axis=1)\n",
    "\n",
    "print('These are measured water levels in cm:')\n",
    "GA.head()"
   ]
  },
  {
   "cell_type": "code",
   "execution_count": 8,
   "metadata": {},
   "outputs": [],
   "source": [
    "#copy the data frame:\n",
    "QA = GA.copy()\n",
    "\n",
    "#apply rating curves:\n",
    "QA.Colpach=RCf_colpach(QA.Colpach)\n",
    "QA.Weierbach=RCf_weierbach(QA.Weierbach)\n",
    "QA.Useldange=RCf_useldange(QA.Useldange)\n",
    "QA.Huewelerbach=RCf_huewelerbach(QA.Huewelerbach)"
   ]
  },
  {
   "cell_type": "code",
   "execution_count": 9,
   "metadata": {},
   "outputs": [
    {
     "name": "stdout",
     "output_type": "stream",
     "text": [
      "These are measured flow rates in m3/s:\n"
     ]
    },
    {
     "data": {
      "text/html": [
       "<div>\n",
       "<table border=\"1\" class=\"dataframe\">\n",
       "  <thead>\n",
       "    <tr style=\"text-align: right;\">\n",
       "      <th></th>\n",
       "      <th>Colpach</th>\n",
       "      <th>Weierbach</th>\n",
       "      <th>Useldange</th>\n",
       "      <th>Huewelerbach</th>\n",
       "    </tr>\n",
       "  </thead>\n",
       "  <tbody>\n",
       "    <tr>\n",
       "      <th>2010-11-01 00:00:00</th>\n",
       "      <td>0.044</td>\n",
       "      <td>0.0005</td>\n",
       "      <td>1.189</td>\n",
       "      <td>0.014049</td>\n",
       "    </tr>\n",
       "    <tr>\n",
       "      <th>2010-11-01 00:15:00</th>\n",
       "      <td>0.045</td>\n",
       "      <td>0.0004</td>\n",
       "      <td>1.189</td>\n",
       "      <td>0.014049</td>\n",
       "    </tr>\n",
       "    <tr>\n",
       "      <th>2010-11-01 00:30:00</th>\n",
       "      <td>0.045</td>\n",
       "      <td>0.0004</td>\n",
       "      <td>1.189</td>\n",
       "      <td>0.014049</td>\n",
       "    </tr>\n",
       "    <tr>\n",
       "      <th>2010-11-01 00:45:00</th>\n",
       "      <td>0.045</td>\n",
       "      <td>0.0004</td>\n",
       "      <td>1.189</td>\n",
       "      <td>0.014049</td>\n",
       "    </tr>\n",
       "    <tr>\n",
       "      <th>2010-11-01 01:00:00</th>\n",
       "      <td>0.044</td>\n",
       "      <td>0.0004</td>\n",
       "      <td>1.189</td>\n",
       "      <td>0.014049</td>\n",
       "    </tr>\n",
       "  </tbody>\n",
       "</table>\n",
       "</div>"
      ],
      "text/plain": [
       "                     Colpach  Weierbach  Useldange  Huewelerbach\n",
       "2010-11-01 00:00:00    0.044     0.0005      1.189      0.014049\n",
       "2010-11-01 00:15:00    0.045     0.0004      1.189      0.014049\n",
       "2010-11-01 00:30:00    0.045     0.0004      1.189      0.014049\n",
       "2010-11-01 00:45:00    0.045     0.0004      1.189      0.014049\n",
       "2010-11-01 01:00:00    0.044     0.0004      1.189      0.014049"
      ]
     },
     "execution_count": 9,
     "metadata": {},
     "output_type": "execute_result"
    }
   ],
   "source": [
    "print('These are measured flow rates in m3/s:')\n",
    "QA.head()"
   ]
  },
  {
   "cell_type": "code",
   "execution_count": 10,
   "metadata": {},
   "outputs": [
    {
     "data": {
      "text/plain": [
       "Text(0,0.5,'Q [m3/s]')"
      ]
     },
     "execution_count": 10,
     "metadata": {},
     "output_type": "execute_result"
    },
    {
     "data": {
      "image/png": "[encoded data removed]",
      "text/plain": [
       "<matplotlib.figure.Figure at 0x10aee0470>"
      ]
     },
     "metadata": {},
     "output_type": "display_data"
    }
   ],
   "source": [
    "#plot the data\n",
    "QA.plot()\n",
    "title('Attert Gauges')\n",
    "ylabel('Q [m3/s]')"
   ]
  },
  {
   "cell_type": "markdown",
   "metadata": {},
   "source": [
    "## Water Balance\n",
    "Now that we have the observed water levels converted into flow, we know the sink-term $(Q)$ of the water balance equation of a catchment:\n",
    "\n",
    "$\\Delta S = P - Q - ET$\n",
    "\n",
    "Let's get a hand on the other parts by reading some meteorological observation data."
   ]
  },
  {
   "cell_type": "code",
   "execution_count": 11,
   "metadata": {},
   "outputs": [
    {
     "data": {
      "text/plain": [
       "Index(['SUM_SSDU', 'SUM_GS200U', 'AVG_WV1000U', 'AVG_TB050U', 'AVG_RH200U',\n",
       "       'MAX_TA005maxU', 'SUM_NN050U', 'MIN_TA005minU', 'MAX_TA200maxU',\n",
       "       'AVG_TB005U', 'MAX_WV1000maxU', 'MIN_TA200minU', 'AVG_TA005U',\n",
       "       'AVG_TA200U', 'AVG_TB100U', 'AVG_TB030U', 'MAX_TA200maxR', 'AVG_TB050R',\n",
       "       'AVG_TB005R', 'AVG_RH200R', 'MAX_TA005maxR', 'MIN_TA200minR',\n",
       "       'AVG_TA005R', 'AVG_TB100R', 'AVG_TA200R', 'AVG_TB030R', 'SUM_NN050R',\n",
       "       'MIN_TA005minR'],\n",
       "      dtype='object')"
      ]
     },
     "execution_count": 11,
     "metadata": {},
     "output_type": "execute_result"
    }
   ],
   "source": [
    "#read file:\n",
    "meteo = pd.read_csv('Meteo.csv')\n",
    "#define time stamp as index\n",
    "meteo.index=pd.to_datetime(meteo.iloc[:,0].values)\n",
    "#drop old time stamp column\n",
    "meteo=meteo.drop('Tag_Stunde',axis=1)\n",
    "\n",
    "meteo.columns"
   ]
  },
  {
   "cell_type": "markdown",
   "metadata": {},
   "source": [
    "### information about the data:\n",
    "The data comprises two stations in the basin: Useldange and Roodt. They are marked with U and R at the end of the column names, respectively.\n",
    "\n",
    "The following data is included:\n",
    " * WV1000: Wind in 10m [m/s]\n",
    " * RH200: Relative Humidity [%]\n",
    " * GS200: Global Radiation [Wh/m2]\n",
    " * TA005: Air Temperature in 5 cm [°C]\n",
    " * TA200: Air Temperature in 2 m [°C]\n",
    " * TB005: Temperature Soil in 5 cm [°C]\n",
    " * TB030: Temperature Soil in 30 cm [°C]\n",
    " * TB050: Temperature Soil in 50 cm [°C]\n",
    " * TB100: Temperature Soil in 1 m [°C]\n",
    " * SSD: Sunshine duration [h]\n",
    " * NN050: Precipitation [mm]\n"
   ]
  },
  {
   "cell_type": "code",
   "execution_count": 12,
   "metadata": {},
   "outputs": [
    {
     "data": {
      "text/html": [
       "<div>\n",
       "<table border=\"1\" class=\"dataframe\">\n",
       "  <thead>\n",
       "    <tr style=\"text-align: right;\">\n",
       "      <th></th>\n",
       "      <th>Colpach</th>\n",
       "      <th>Weierbach</th>\n",
       "      <th>Useldange</th>\n",
       "      <th>Huewelerbach</th>\n",
       "    </tr>\n",
       "  </thead>\n",
       "  <tbody>\n",
       "    <tr>\n",
       "      <th>2010-11-01 00:00:00</th>\n",
       "      <td>39.6</td>\n",
       "      <td>0.45</td>\n",
       "      <td>1070.099998</td>\n",
       "      <td>12.644121</td>\n",
       "    </tr>\n",
       "    <tr>\n",
       "      <th>2010-11-01 00:15:00</th>\n",
       "      <td>40.5</td>\n",
       "      <td>0.36</td>\n",
       "      <td>1070.099998</td>\n",
       "      <td>12.644121</td>\n",
       "    </tr>\n",
       "    <tr>\n",
       "      <th>2010-11-01 00:30:00</th>\n",
       "      <td>40.5</td>\n",
       "      <td>0.36</td>\n",
       "      <td>1070.099998</td>\n",
       "      <td>12.644121</td>\n",
       "    </tr>\n",
       "    <tr>\n",
       "      <th>2010-11-01 00:45:00</th>\n",
       "      <td>40.5</td>\n",
       "      <td>0.36</td>\n",
       "      <td>1070.099998</td>\n",
       "      <td>12.644121</td>\n",
       "    </tr>\n",
       "    <tr>\n",
       "      <th>2010-11-01 01:00:00</th>\n",
       "      <td>39.6</td>\n",
       "      <td>0.36</td>\n",
       "      <td>1070.099998</td>\n",
       "      <td>12.644121</td>\n",
       "    </tr>\n",
       "  </tbody>\n",
       "</table>\n",
       "</div>"
      ],
      "text/plain": [
       "                     Colpach  Weierbach    Useldange  Huewelerbach\n",
       "2010-11-01 00:00:00     39.6       0.45  1070.099998     12.644121\n",
       "2010-11-01 00:15:00     40.5       0.36  1070.099998     12.644121\n",
       "2010-11-01 00:30:00     40.5       0.36  1070.099998     12.644121\n",
       "2010-11-01 00:45:00     40.5       0.36  1070.099998     12.644121\n",
       "2010-11-01 01:00:00     39.6       0.36  1070.099998     12.644121"
      ]
     },
     "execution_count": 12,
     "metadata": {},
     "output_type": "execute_result"
    }
   ],
   "source": [
    "SpeQA=QA.copy()\n",
    "\n",
    "#to avoid averaging errors we will convert the fluxes of the inferred flow into volumes:\n",
    "#flow to volume of a 15min average [m3/s]*(15.*60.)[s] --> [m3]\n",
    "SpeQA*=(15.*60.)\n",
    "SpeQA.head(5)"
   ]
  },
  {
   "cell_type": "code",
   "execution_count": 13,
   "metadata": {},
   "outputs": [],
   "source": [
    "#add precipitation to data frame\n",
    "#notice: the gauge data are in 15 min time steps; the meteo obs are 1h sums/averages\n",
    "#hence we have to resample the data to the larger time step\n",
    "\n",
    "#copy discharge data frame\n",
    "SpeQA=QA.copy()\n",
    "\n",
    "#to avoid averaging errors we will convert the fluxes of the inferred flow into volumes:\n",
    "#flow to volume of a 15min average [m3/s]*(15.*60.)[s] --> [m3]\n",
    "SpeQA*=(15.*60.)\n",
    "\n",
    "#rainfall is given as height which needs to be muliplied by the catchment under study to get a volume.\n",
    "#however, we do not have as many stations to get a distributed input. so we make life easy by converting \n",
    "#the volume which is exported by the catchment area to get the \"Specific Discharge\"\n",
    "#[m3] / catchment area [m2] --> [m]\n",
    "\n",
    "#get areas:\n",
    "Area=pd.read_csv('catch_area.csv')\n",
    "\n",
    "#apply conversion to specific discharge\n",
    "SpeQA.Colpach/=Area.Colpach.values\n",
    "SpeQA.Weierbach/=Area.Weierbach.values\n",
    "SpeQA.Useldange/=Area.Useldange.values\n",
    "SpeQA.Huewelerbach/=Area.Huewelerbach.values\n",
    "\n",
    "#convert [m] --> [mm]\n",
    "SpeQA*=1000.\n",
    "\n",
    "#rainfall as hight of a 1h sum [mm] \n",
    "precip = meteo[['SUM_NN050U','SUM_NN050R']]\n",
    "precip.columns = ['P_Useldange','P_Roodt']\n",
    "\n",
    "#combine the data sets be resampling the discharge to 1 hour sums\n",
    "WB_attert = pd.concat([SpeQA.resample('1H').sum(),precip],axis=1)"
   ]
  },
  {
   "cell_type": "markdown",
   "metadata": {},
   "source": [
    "## Dynamic water balance\n",
    "The water balance equation can also be interpreted as dynamic storage:\n",
    "\n",
    "$\\frac{dS}{dt}=P-Q-ET$\n"
   ]
  },
  {
   "cell_type": "code",
   "execution_count": 14,
   "metadata": {},
   "outputs": [
    {
     "data": {
      "text/plain": [
       "Text(0,0.5,'water [mm]')"
      ]
     },
     "execution_count": 14,
     "metadata": {},
     "output_type": "execute_result"
    },
    {
     "data": {
      "image/png": "[encoded data removed]",
      "text/plain": [
       "<matplotlib.figure.Figure at 0x1a18c8c208>"
      ]
     },
     "metadata": {},
     "output_type": "display_data"
    }
   ],
   "source": [
    "WB_attert.plot()\n",
    "ylabel('water [mm]')"
   ]
  },
  {
   "cell_type": "code",
   "execution_count": 15,
   "metadata": {},
   "outputs": [
    {
     "data": {
      "text/plain": [
       "Text(0,0.5,'cumulated water [mm]')"
      ]
     },
     "execution_count": 15,
     "metadata": {},
     "output_type": "execute_result"
    },
    {
     "data": {
      "image/png": "[encoded data removed]",
      "text/plain": [
       "<matplotlib.figure.Figure at 0x1a1e7b4d68>"
      ]
     },
     "metadata": {},
     "output_type": "display_data"
    }
   ],
   "source": [
    "WB_attert.cumsum().plot()\n",
    "ylabel('cumulated water [mm]')"
   ]
  },
  {
   "cell_type": "markdown",
   "metadata": {},
   "source": [
    "### Annual water balance\n",
    "Now that we have the data ready, let's calculate some water balances for the hydrological years between Novembre 2010 and Octobre 2013.\n",
    "\n",
    "A hydrological year is defined as the period from beginning of autumn to end of summer the year after. For the region of the Attert this is Nov-01 to Oct-31.\n",
    "\n",
    "If we assume $\\Delta S = 0$ for one hydrological year, the balance equation $\\Delta S = P - Q - ET$ can be used to estimate the basically unknown sink term for evapotranspiration (if we also assume that there is no further sink in the system like zero groundwater recharge):\n",
    "\n",
    "$ET = P - Q$"
   ]
  },
  {
   "cell_type": "code",
   "execution_count": 16,
   "metadata": {},
   "outputs": [
    {
     "name": "stdout",
     "output_type": "stream",
     "text": [
      "water balance compartments [mm]:\n"
     ]
    },
    {
     "data": {
      "text/html": [
       "<div>\n",
       "<table border=\"1\" class=\"dataframe\">\n",
       "  <thead>\n",
       "    <tr style=\"text-align: right;\">\n",
       "      <th></th>\n",
       "      <th>2011</th>\n",
       "      <th>2012</th>\n",
       "      <th>2013</th>\n",
       "    </tr>\n",
       "  </thead>\n",
       "  <tbody>\n",
       "    <tr>\n",
       "      <th>Colpach</th>\n",
       "      <td>339.082374</td>\n",
       "      <td>528.559857</td>\n",
       "      <td>535.032831</td>\n",
       "    </tr>\n",
       "    <tr>\n",
       "      <th>Weierbach</th>\n",
       "      <td>346.784432</td>\n",
       "      <td>498.019832</td>\n",
       "      <td>599.738219</td>\n",
       "    </tr>\n",
       "    <tr>\n",
       "      <th>Useldange</th>\n",
       "      <td>275.309188</td>\n",
       "      <td>362.596730</td>\n",
       "      <td>427.547034</td>\n",
       "    </tr>\n",
       "    <tr>\n",
       "      <th>Huewelerbach</th>\n",
       "      <td>150.032939</td>\n",
       "      <td>139.336900</td>\n",
       "      <td>238.594033</td>\n",
       "    </tr>\n",
       "    <tr>\n",
       "      <th>P_Useldange</th>\n",
       "      <td>530.700000</td>\n",
       "      <td>846.500000</td>\n",
       "      <td>812.800000</td>\n",
       "    </tr>\n",
       "    <tr>\n",
       "      <th>P_Roodt</th>\n",
       "      <td>757.000000</td>\n",
       "      <td>1140.300000</td>\n",
       "      <td>990.500000</td>\n",
       "    </tr>\n",
       "  </tbody>\n",
       "</table>\n",
       "</div>"
      ],
      "text/plain": [
       "                    2011         2012        2013\n",
       "Colpach       339.082374   528.559857  535.032831\n",
       "Weierbach     346.784432   498.019832  599.738219\n",
       "Useldange     275.309188   362.596730  427.547034\n",
       "Huewelerbach  150.032939   139.336900  238.594033\n",
       "P_Useldange   530.700000   846.500000  812.800000\n",
       "P_Roodt       757.000000  1140.300000  990.500000"
      ]
     },
     "execution_count": 16,
     "metadata": {},
     "output_type": "execute_result"
    }
   ],
   "source": [
    "starttime1=pd.to_datetime('2010-11-01 00:00:00')\n",
    "endtime1=pd.to_datetime('2011-10-31 23:59:00')\n",
    "starttime2=pd.to_datetime('2011-11-01 00:00:00')\n",
    "endtime2=pd.to_datetime('2012-10-31 23:59:00')\n",
    "starttime3=pd.to_datetime('2012-11-01 00:00:00')\n",
    "endtime3=pd.to_datetime('2013-10-31 23:59:00')\n",
    "\n",
    "WB_annual=pd.concat([WB_attert.loc[starttime1:endtime1].sum(axis=0),\n",
    "                     WB_attert.loc[starttime2:endtime2].sum(axis=0),\n",
    "                     WB_attert.loc[starttime3:endtime3].sum(axis=0)],axis=1)\n",
    "\n",
    "WB_annual.columns=[['2011','2012','2013']]\n",
    "print('water balance compartments [mm]:')\n",
    "WB_annual"
   ]
  },
  {
   "cell_type": "code",
   "execution_count": 17,
   "metadata": {},
   "outputs": [
    {
     "name": "stdout",
     "output_type": "stream",
     "text": [
      "ET estimated by water balance [mm]:\n"
     ]
    },
    {
     "data": {
      "text/html": [
       "<div>\n",
       "<table border=\"1\" class=\"dataframe\">\n",
       "  <thead>\n",
       "    <tr style=\"text-align: right;\">\n",
       "      <th></th>\n",
       "      <th>2011</th>\n",
       "      <th>2012</th>\n",
       "      <th>2013</th>\n",
       "    </tr>\n",
       "  </thead>\n",
       "  <tbody>\n",
       "    <tr>\n",
       "      <th>Colpach</th>\n",
       "      <td>191.617626</td>\n",
       "      <td>317.940143</td>\n",
       "      <td>277.767169</td>\n",
       "    </tr>\n",
       "    <tr>\n",
       "      <th>Weierbach</th>\n",
       "      <td>183.915568</td>\n",
       "      <td>348.480168</td>\n",
       "      <td>213.061781</td>\n",
       "    </tr>\n",
       "    <tr>\n",
       "      <th>Useldange</th>\n",
       "      <td>255.390812</td>\n",
       "      <td>483.903270</td>\n",
       "      <td>385.252966</td>\n",
       "    </tr>\n",
       "    <tr>\n",
       "      <th>Huewelerbach</th>\n",
       "      <td>380.667061</td>\n",
       "      <td>707.163100</td>\n",
       "      <td>574.205967</td>\n",
       "    </tr>\n",
       "  </tbody>\n",
       "</table>\n",
       "</div>"
      ],
      "text/plain": [
       "                    2011        2012        2013\n",
       "Colpach       191.617626  317.940143  277.767169\n",
       "Weierbach     183.915568  348.480168  213.061781\n",
       "Useldange     255.390812  483.903270  385.252966\n",
       "Huewelerbach  380.667061  707.163100  574.205967"
      ]
     },
     "execution_count": 17,
     "metadata": {},
     "output_type": "execute_result"
    }
   ],
   "source": [
    "#Let's assume the recorded precipitation at Useldange is valid for all basins.\n",
    "#Hence ET would be:\n",
    "\n",
    "WB_ET=-WB_annual.loc[['Colpach','Weierbach','Useldange','Huewelerbach']]+WB_annual.loc['P_Useldange'].values\n",
    "print('ET estimated by water balance [mm]:')\n",
    "WB_ET"
   ]
  },
  {
   "cell_type": "markdown",
   "metadata": {
    "collapsed": true
   },
   "source": [
    "Are these realistic values? What would you expect the values to be in terms of spatial and temporal differences?"
   ]
  },
  {
   "cell_type": "markdown",
   "metadata": {},
   "source": [
    "## Model ET\n",
    "There are many models for calculating evapotranspiration out there. We will use three to refer our observations against. For sake of brevity we will not dive into the details of these models here but just apply them..."
   ]
  },
  {
   "cell_type": "code",
   "execution_count": 18,
   "metadata": {},
   "outputs": [],
   "source": [
    "#use Daily Actual Evapotranspiration after Szilagyi, J. 2007, doi:10.1029/2006GL028708\n",
    "import ET_SJ\n",
    "\n",
    "#prepare meteo data:\n",
    "\n",
    "#(Tmax,Tmin,RHmax,RHmin,Rs,u2,J,lat,Elev, alpha, z0):\n",
    "SJ_meteo = pd.concat([meteo.AVG_TA200U.resample('d').max(),\n",
    "                      meteo.AVG_TA200U.resample('d').min(),\n",
    "                      meteo.AVG_RH200U.resample('d').max(),\n",
    "                      meteo.AVG_RH200U.resample('d').min(),\n",
    "                      meteo.SUM_GS200U.resample('d').sum()*0.0036,\n",
    "                      meteo.AVG_WV1000U.resample('d').mean()*3.6,\n",
    "                      pd.Series(meteo.SUM_GS200U.resample('d').sum().index.dayofyear, meteo.SUM_GS200U.resample('d').sum().index)],axis=1)\n",
    "SJ_meteo.columns=(['Tmax','Tmin','RHmax','RHmin','Rs','u2','J'])\n",
    "\n",
    "\n",
    "    "
   ]
  },
  {
   "cell_type": "code",
   "execution_count": 19,
   "metadata": {},
   "outputs": [
    {
     "data": {
      "text/html": [
       "<div>\n",
       "<table border=\"1\" class=\"dataframe\">\n",
       "  <thead>\n",
       "    <tr style=\"text-align: right;\">\n",
       "      <th></th>\n",
       "      <th>Tmax</th>\n",
       "      <th>Tmin</th>\n",
       "      <th>RHmax</th>\n",
       "      <th>RHmin</th>\n",
       "      <th>Rs</th>\n",
       "      <th>u2</th>\n",
       "      <th>J</th>\n",
       "    </tr>\n",
       "  </thead>\n",
       "  <tbody>\n",
       "    <tr>\n",
       "      <th>2010-11-01</th>\n",
       "      <td>16.50</td>\n",
       "      <td>4.40</td>\n",
       "      <td>98.92</td>\n",
       "      <td>64.54</td>\n",
       "      <td>4.551660</td>\n",
       "      <td>3.2145</td>\n",
       "      <td>305</td>\n",
       "    </tr>\n",
       "    <tr>\n",
       "      <th>2010-11-02</th>\n",
       "      <td>12.57</td>\n",
       "      <td>3.90</td>\n",
       "      <td>98.47</td>\n",
       "      <td>72.63</td>\n",
       "      <td>3.572892</td>\n",
       "      <td>10.3515</td>\n",
       "      <td>306</td>\n",
       "    </tr>\n",
       "    <tr>\n",
       "      <th>2010-11-03</th>\n",
       "      <td>13.13</td>\n",
       "      <td>10.87</td>\n",
       "      <td>97.51</td>\n",
       "      <td>86.84</td>\n",
       "      <td>0.000000</td>\n",
       "      <td>18.2250</td>\n",
       "      <td>307</td>\n",
       "    </tr>\n",
       "    <tr>\n",
       "      <th>2010-11-04</th>\n",
       "      <td>16.22</td>\n",
       "      <td>12.98</td>\n",
       "      <td>95.89</td>\n",
       "      <td>79.91</td>\n",
       "      <td>0.693432</td>\n",
       "      <td>23.0160</td>\n",
       "      <td>308</td>\n",
       "    </tr>\n",
       "    <tr>\n",
       "      <th>2010-11-05</th>\n",
       "      <td>13.43</td>\n",
       "      <td>11.40</td>\n",
       "      <td>88.17</td>\n",
       "      <td>77.13</td>\n",
       "      <td>0.165204</td>\n",
       "      <td>21.1830</td>\n",
       "      <td>309</td>\n",
       "    </tr>\n",
       "  </tbody>\n",
       "</table>\n",
       "</div>"
      ],
      "text/plain": [
       "             Tmax   Tmin  RHmax  RHmin        Rs       u2    J\n",
       "2010-11-01  16.50   4.40  98.92  64.54  4.551660   3.2145  305\n",
       "2010-11-02  12.57   3.90  98.47  72.63  3.572892  10.3515  306\n",
       "2010-11-03  13.13  10.87  97.51  86.84  0.000000  18.2250  307\n",
       "2010-11-04  16.22  12.98  95.89  79.91  0.693432  23.0160  308\n",
       "2010-11-05  13.43  11.40  88.17  77.13  0.165204  21.1830  309"
      ]
     },
     "execution_count": 19,
     "metadata": {},
     "output_type": "execute_result"
    }
   ],
   "source": [
    "SJ_meteo.head()\n"
   ]
  },
  {
   "cell_type": "code",
   "execution_count": 20,
   "metadata": {},
   "outputs": [],
   "source": [
    "import scipy.signal as sps\n",
    "ETsj = ET_SJ.ET_SJ(SJ_meteo.Tmax,SJ_meteo.Tmin,SJ_meteo.RHmax,SJ_meteo.RHmin,SJ_meteo.Rs,SJ_meteo.u2,SJ_meteo.J,lat=49.8,Elev=230.,alpha=0.23, z0=0.02)\n",
    "ETsj[ETsj<0.]=np.nan\n",
    "ETsj=ETsj.interpolate()\n",
    "ETsj=pd.Series(sps.savgol_filter(ETsj,5, 2, mode='nearest'),SJ_meteo.index)"
   ]
  },
  {
   "cell_type": "code",
   "execution_count": 21,
   "metadata": {},
   "outputs": [
    {
     "data": {
      "text/plain": [
       "2010-11-30     5.565191\n",
       "2010-12-31     9.281819\n",
       "2011-01-31     9.853686\n",
       "2011-02-28     8.694224\n",
       "2011-03-31     8.907490\n",
       "2011-04-30    18.656318\n",
       "2011-05-31    43.759850\n",
       "2011-06-30    35.743759\n",
       "2011-07-31    22.155690\n",
       "2011-08-31    23.507067\n",
       "2011-09-30    13.905201\n",
       "2011-10-31     9.471167\n",
       "2011-11-30    12.622571\n",
       "2011-12-31    10.325086\n",
       "2012-01-31    11.451703\n",
       "2012-02-29    13.679740\n",
       "2012-03-31    10.999111\n",
       "2012-04-30     6.479513\n",
       "2012-05-31    24.805478\n",
       "2012-06-30    25.524742\n",
       "2012-07-31    34.678325\n",
       "2012-08-31    46.409420\n",
       "2012-09-30    22.432128\n",
       "2012-10-31     7.911175\n",
       "2012-11-30     9.900155\n",
       "2012-12-31     8.448089\n",
       "2013-01-31     9.761742\n",
       "2013-02-28     4.893639\n",
       "2013-03-31     7.359648\n",
       "2013-04-30    24.337606\n",
       "2013-05-31    26.665093\n",
       "2013-06-30    45.350448\n",
       "2013-07-31    74.616752\n",
       "2013-08-31    45.581127\n",
       "2013-09-30    32.462509\n",
       "2013-10-31    16.637359\n",
       "Freq: M, dtype: float64"
      ]
     },
     "execution_count": 21,
     "metadata": {},
     "output_type": "execute_result"
    }
   ],
   "source": [
    "ETsj.resample('M').sum()"
   ]
  },
  {
   "cell_type": "code",
   "execution_count": 22,
   "metadata": {},
   "outputs": [],
   "source": [
    "\n",
    "#(dummy_mWB[['Q_Colpach','Q_Weierbach','Q_Useldange','Q_Huewelerbach']].T+(dummy_mWB.P_Useldange+dummy_mWB.ET)).T.to_latex()"
   ]
  },
  {
   "cell_type": "code",
   "execution_count": 23,
   "metadata": {},
   "outputs": [
    {
     "data": {
      "text/plain": [
       "<matplotlib.legend.Legend at 0x1a202491d0>"
      ]
     },
     "execution_count": 23,
     "metadata": {},
     "output_type": "execute_result"
    },
    {
     "data": {
      "image/png": "[encoded data removed]",
      "text/plain": [
       "<matplotlib.figure.Figure at 0x1a20399e10>"
      ]
     },
     "metadata": {},
     "output_type": "display_data"
    }
   ],
   "source": [
    "#pd.concat([WB_attert.resample('M').sum(),ETsj.resample('M').sum()],axis=1).round(2).to_latex()\n",
    "dummy_mWB=pd.concat([WB_attert.resample('M').sum(),ETsj.resample('M').sum()],axis=1)\n",
    "dummy_mWB.columns=['Q_Colpach','Q_Weierbach','Q_Useldange','Q_Huewelerbach','P_Useldange','P_Roodt','ET']\n",
    "dummy_mWB[['Q_Colpach','Q_Weierbach','Q_Useldange','Q_Huewelerbach','ET']]*=-1.\n",
    "dummy_mWB['Month']=dummy_mWB.index\n",
    "dummy_mWB['M_Bal']=(dummy_mWB.P_Useldange+dummy_mWB[['Q_Useldange','ET']].sum(axis=1))\n",
    "#import seaborn as sns\n",
    "#sns.set(style='whitegrid', palette='deep')\n",
    "#matplotlib.rcParams['svg.fonttype'] = 'none'\n",
    "\n",
    "figsize(10,3.5)\n",
    "width = 20\n",
    "bar(dummy_mWB.index,dummy_mWB.P_Useldange.values,width,label='Precip')\n",
    "bar(dummy_mWB.index,dummy_mWB.Q_Useldange.values,width,color='g',label='Discharge')\n",
    "bar(dummy_mWB.index,dummy_mWB.ET.values,width,bottom=dummy_mWB.Q_Useldange.values,color='r',label='ET')\n",
    "plot(dummy_mWB.index,dummy_mWB.M_Bal.values,'-',linewidth=2,label='Monthly Balance',color='y')\n",
    "title('Water Balance Useldange')\n",
    "ylabel('Water [mm]')\n",
    "legend(ncol=3)\n"
   ]
  },
  {
   "cell_type": "code",
   "execution_count": 24,
   "metadata": {},
   "outputs": [
    {
     "data": {
      "text/html": [
       "<div>\n",
       "<table border=\"1\" class=\"dataframe\">\n",
       "  <thead>\n",
       "    <tr style=\"text-align: right;\">\n",
       "      <th></th>\n",
       "      <th>2011</th>\n",
       "      <th>2012</th>\n",
       "      <th>2013</th>\n",
       "    </tr>\n",
       "  </thead>\n",
       "  <tbody>\n",
       "    <tr>\n",
       "      <th>ET_sj</th>\n",
       "      <td>209.501462</td>\n",
       "      <td>227.318992</td>\n",
       "      <td>306.014166</td>\n",
       "    </tr>\n",
       "  </tbody>\n",
       "</table>\n",
       "</div>"
      ],
      "text/plain": [
       "             2011        2012        2013\n",
       "ET_sj  209.501462  227.318992  306.014166"
      ]
     },
     "execution_count": 24,
     "metadata": {},
     "output_type": "execute_result"
    }
   ],
   "source": [
    "ETsj_annual=[ETsj.loc[starttime1:endtime1].sum(),\n",
    "              ETsj.loc[starttime2:endtime2].sum(),\n",
    "              ETsj.loc[starttime3:endtime3].sum()]\n",
    "ETsj_annual=pd.DataFrame(ETsj_annual).T\n",
    "ETsj_annual.index=['ET_sj']\n",
    "ETsj_annual.columns=[['2011','2012','2013']]\n",
    "ETsj_annual"
   ]
  },
  {
   "cell_type": "code",
   "execution_count": 25,
   "metadata": {},
   "outputs": [
    {
     "data": {
      "text/html": [
       "<div>\n",
       "<table border=\"1\" class=\"dataframe\">\n",
       "  <thead>\n",
       "    <tr style=\"text-align: right;\">\n",
       "      <th></th>\n",
       "      <th>2011</th>\n",
       "      <th>2012</th>\n",
       "      <th>2013</th>\n",
       "    </tr>\n",
       "  </thead>\n",
       "  <tbody>\n",
       "    <tr>\n",
       "      <th>Colpach</th>\n",
       "      <td>339.082374</td>\n",
       "      <td>528.559857</td>\n",
       "      <td>535.032831</td>\n",
       "    </tr>\n",
       "    <tr>\n",
       "      <th>Weierbach</th>\n",
       "      <td>346.784432</td>\n",
       "      <td>498.019832</td>\n",
       "      <td>599.738219</td>\n",
       "    </tr>\n",
       "    <tr>\n",
       "      <th>Useldange</th>\n",
       "      <td>275.309188</td>\n",
       "      <td>362.596730</td>\n",
       "      <td>427.547034</td>\n",
       "    </tr>\n",
       "    <tr>\n",
       "      <th>Huewelerbach</th>\n",
       "      <td>150.032939</td>\n",
       "      <td>139.336900</td>\n",
       "      <td>238.594033</td>\n",
       "    </tr>\n",
       "    <tr>\n",
       "      <th>P_Useldange</th>\n",
       "      <td>530.700000</td>\n",
       "      <td>846.500000</td>\n",
       "      <td>812.800000</td>\n",
       "    </tr>\n",
       "    <tr>\n",
       "      <th>P_Roodt</th>\n",
       "      <td>757.000000</td>\n",
       "      <td>1140.300000</td>\n",
       "      <td>990.500000</td>\n",
       "    </tr>\n",
       "    <tr>\n",
       "      <th>ET_sj</th>\n",
       "      <td>209.501462</td>\n",
       "      <td>227.318992</td>\n",
       "      <td>306.014166</td>\n",
       "    </tr>\n",
       "  </tbody>\n",
       "</table>\n",
       "</div>"
      ],
      "text/plain": [
       "                    2011         2012        2013\n",
       "Colpach       339.082374   528.559857  535.032831\n",
       "Weierbach     346.784432   498.019832  599.738219\n",
       "Useldange     275.309188   362.596730  427.547034\n",
       "Huewelerbach  150.032939   139.336900  238.594033\n",
       "P_Useldange   530.700000   846.500000  812.800000\n",
       "P_Roodt       757.000000  1140.300000  990.500000\n",
       "ET_sj         209.501462   227.318992  306.014166"
      ]
     },
     "execution_count": 25,
     "metadata": {},
     "output_type": "execute_result"
    }
   ],
   "source": [
    "WB_annual = pd.concat([WB_annual,ETsj_annual],axis=0)\n",
    "WB_annual"
   ]
  },
  {
   "cell_type": "code",
   "execution_count": 26,
   "metadata": {},
   "outputs": [
    {
     "name": "stdout",
     "output_type": "stream",
     "text": [
      "Waterbalance in different Catchments:\n"
     ]
    },
    {
     "data": {
      "text/html": [
       "<div>\n",
       "<table border=\"1\" class=\"dataframe\">\n",
       "  <thead>\n",
       "    <tr style=\"text-align: right;\">\n",
       "      <th></th>\n",
       "      <th>2011</th>\n",
       "      <th>2012</th>\n",
       "      <th>2013</th>\n",
       "    </tr>\n",
       "  </thead>\n",
       "  <tbody>\n",
       "    <tr>\n",
       "      <th>Colpach</th>\n",
       "      <td>-17.883835</td>\n",
       "      <td>90.621150</td>\n",
       "      <td>-28.246997</td>\n",
       "    </tr>\n",
       "    <tr>\n",
       "      <th>Weierbach</th>\n",
       "      <td>-25.585894</td>\n",
       "      <td>121.161175</td>\n",
       "      <td>-92.952385</td>\n",
       "    </tr>\n",
       "    <tr>\n",
       "      <th>Useldange</th>\n",
       "      <td>45.889350</td>\n",
       "      <td>256.584278</td>\n",
       "      <td>79.238800</td>\n",
       "    </tr>\n",
       "    <tr>\n",
       "      <th>Huewelerbach</th>\n",
       "      <td>171.165600</td>\n",
       "      <td>479.844108</td>\n",
       "      <td>268.191800</td>\n",
       "    </tr>\n",
       "  </tbody>\n",
       "</table>\n",
       "</div>"
      ],
      "text/plain": [
       "                    2011        2012        2013\n",
       "Colpach       -17.883835   90.621150  -28.246997\n",
       "Weierbach     -25.585894  121.161175  -92.952385\n",
       "Useldange      45.889350  256.584278   79.238800\n",
       "Huewelerbach  171.165600  479.844108  268.191800"
      ]
     },
     "execution_count": 26,
     "metadata": {},
     "output_type": "execute_result"
    }
   ],
   "source": [
    "print('Waterbalance in different Catchments:')\n",
    "-WB_annual.loc[['Colpach','Weierbach','Useldange','Huewelerbach']]+WB_annual.loc['P_Useldange'].values-WB_annual.loc['ET_sj'].values\n"
   ]
  },
  {
   "cell_type": "markdown",
   "metadata": {},
   "source": [
    "We see that there is quite some discrepancy compared to our assumptions.\n",
    "Please discuss the results."
   ]
  },
  {
   "cell_type": "code",
   "execution_count": null,
   "metadata": {
    "collapsed": true
   },
   "outputs": [],
   "source": []
  }
 ],
 "metadata": {
  "kernelspec": {
   "display_name": "Python 3",
   "language": "python",
   "name": "python3"
  },
  "language_info": {
   "codemirror_mode": {
    "name": "ipython",
    "version": 3
   },
   "file_extension": ".py",
   "mimetype": "text/x-python",
   "name": "python",
   "nbconvert_exporter": "python",
   "pygments_lexer": "ipython3",
   "version": "3.6.3"
  }
 },
 "nbformat": 4,
 "nbformat_minor": 1
}
