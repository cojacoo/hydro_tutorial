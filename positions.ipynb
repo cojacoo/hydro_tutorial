{
 "cells": [
  {
   "cell_type": "markdown",
   "metadata": {},
   "source": [
    "# Field Course Attert 2018\n",
    "## Positions and Re-Projection\n",
    "\n",
    "This notebook reads all measured positions and reprojects them to a geographic coordinate system"
   ]
  },
  {
   "cell_type": "code",
   "execution_count": 1,
   "metadata": {},
   "outputs": [
    {
     "name": "stdout",
     "output_type": "stream",
     "text": [
      "Populating the interactive namespace from numpy and matplotlib\n"
     ]
    }
   ],
   "source": [
    "#load needed modules\n",
    "\n",
    "#general modules\n",
    "%pylab inline\n",
    "import pandas as pd\n",
    "import seaborn as sns\n",
    "\n",
    "#geographic modules\n",
    "import pyproj\n",
    "import geopandas as gp\n",
    "import folium\n",
    "import json"
   ]
  },
  {
   "cell_type": "code",
   "execution_count": 3,
   "metadata": {},
   "outputs": [],
   "source": [
    "#load recorded data\n",
    "day1 = pd.read_csv('DAY1.csv')\n",
    "day2 = pd.read_csv('DAY2.csv')\n",
    "day3 = pd.read_csv('DAY3.csv')\n",
    "\n",
    "day1.columns=['PointID', 'East', 'North', 'Elevation', 'Code', 'Date']\n",
    "day2.columns=['PointID', 'East', 'North', 'Elevation', 'Code', 'Date']\n",
    "day3.columns=['PointID', 'East', 'North', 'Elevation', 'Code', 'Date']"
   ]
  },
  {
   "cell_type": "markdown",
   "metadata": {},
   "source": [
    "## Day 1\n",
    "\n",
    "We will simply do an offset correction based on the triangular centroid of the known stations"
   ]
  },
  {
   "cell_type": "code",
   "execution_count": 4,
   "metadata": {},
   "outputs": [
    {
     "data": {
      "text/plain": [
       "Text(0.5,1,'Day 1')"
      ]
     },
     "execution_count": 4,
     "metadata": {},
     "output_type": "execute_result"
    },
    {
     "data": {
      "image/png": "[encoded data removed]",
      "text/plain": [
       "<matplotlib.figure.Figure at 0x11c082f60>"
      ]
     },
     "metadata": {},
     "output_type": "display_data"
    }
   ],
   "source": [
    "scatter(day1.East,day1.North)\n",
    "title('Day 1')"
   ]
  },
  {
   "cell_type": "code",
   "execution_count": 7,
   "metadata": {},
   "outputs": [
    {
     "data": {
      "text/html": [
       "<div>\n",
       "<table border=\"1\" class=\"dataframe\">\n",
       "  <thead>\n",
       "    <tr style=\"text-align: right;\">\n",
       "      <th></th>\n",
       "      <th>PointID</th>\n",
       "      <th>East</th>\n",
       "      <th>North</th>\n",
       "      <th>Elevation</th>\n",
       "      <th>Code</th>\n",
       "      <th>Date</th>\n",
       "    </tr>\n",
       "  </thead>\n",
       "  <tbody>\n",
       "    <tr>\n",
       "      <th>0</th>\n",
       "      <td>STAT.A</td>\n",
       "      <td>-12.426466</td>\n",
       "      <td>23.803016</td>\n",
       "      <td>479.402497</td>\n",
       "      <td>\\t\"\"</td>\n",
       "      <td>\\t23-05-2018/09:54:44.0</td>\n",
       "    </tr>\n",
       "    <tr>\n",
       "      <th>1</th>\n",
       "      <td>STAT_F</td>\n",
       "      <td>-7.041080</td>\n",
       "      <td>14.740034</td>\n",
       "      <td>475.776000</td>\n",
       "      <td>\\t\"\"</td>\n",
       "      <td>\\t23-05-2018/10:03:28.0</td>\n",
       "    </tr>\n",
       "    <tr>\n",
       "      <th>2</th>\n",
       "      <td>STAT_B</td>\n",
       "      <td>-18.305832</td>\n",
       "      <td>37.584413</td>\n",
       "      <td>484.601972</td>\n",
       "      <td>\\t\"\"</td>\n",
       "      <td>\\t23-05-2018/10:12:20.0</td>\n",
       "    </tr>\n",
       "    <tr>\n",
       "      <th>3</th>\n",
       "      <td>STAT_D</td>\n",
       "      <td>18.173916</td>\n",
       "      <td>-11.813449</td>\n",
       "      <td>466.670748</td>\n",
       "      <td>\\t\"\"</td>\n",
       "      <td>\\t23-05-2018/10:23:20.0</td>\n",
       "    </tr>\n",
       "    <tr>\n",
       "      <th>4</th>\n",
       "      <td>STAT_C</td>\n",
       "      <td>2.877192</td>\n",
       "      <td>-5.965952</td>\n",
       "      <td>469.586943</td>\n",
       "      <td>\\t\"\"</td>\n",
       "      <td>\\t23-05-2018/10:33:34.0</td>\n",
       "    </tr>\n",
       "    <tr>\n",
       "      <th>5</th>\n",
       "      <td>STAT_C2</td>\n",
       "      <td>0.511880</td>\n",
       "      <td>-9.249280</td>\n",
       "      <td>469.775024</td>\n",
       "      <td>\\t\"\"</td>\n",
       "      <td>\\t23-05-2018/10:38:48.0</td>\n",
       "    </tr>\n",
       "    <tr>\n",
       "      <th>6</th>\n",
       "      <td>STAT_E</td>\n",
       "      <td>-15.787432</td>\n",
       "      <td>-34.533820</td>\n",
       "      <td>480.906038</td>\n",
       "      <td>\\t\"\"</td>\n",
       "      <td>\\t23-05-2018/10:46:38.0</td>\n",
       "    </tr>\n",
       "    <tr>\n",
       "      <th>7</th>\n",
       "      <td>STAT_G</td>\n",
       "      <td>-6.886332</td>\n",
       "      <td>-21.807620</td>\n",
       "      <td>473.114700</td>\n",
       "      <td>\\t\"\"</td>\n",
       "      <td>\\t23-05-2018/10:52:36.0</td>\n",
       "    </tr>\n",
       "    <tr>\n",
       "      <th>8</th>\n",
       "      <td>STAT_Z</td>\n",
       "      <td>-19.367646</td>\n",
       "      <td>23.139650</td>\n",
       "      <td>480.414074</td>\n",
       "      <td>\\t\"\"</td>\n",
       "      <td>\\t23-05-2018/15:08:45.0</td>\n",
       "    </tr>\n",
       "    <tr>\n",
       "      <th>9</th>\n",
       "      <td>STAT_Y</td>\n",
       "      <td>-15.191606</td>\n",
       "      <td>30.754630</td>\n",
       "      <td>482.186650</td>\n",
       "      <td>\\t\"\"</td>\n",
       "      <td>\\t23-05-2018/15:13:46.0</td>\n",
       "    </tr>\n",
       "  </tbody>\n",
       "</table>\n",
       "</div>"
      ],
      "text/plain": [
       "   PointID       East      North   Elevation  Code                     Date\n",
       "0   STAT.A -12.426466  23.803016  479.402497  \\t\"\"  \\t23-05-2018/09:54:44.0\n",
       "1   STAT_F  -7.041080  14.740034  475.776000  \\t\"\"  \\t23-05-2018/10:03:28.0\n",
       "2   STAT_B -18.305832  37.584413  484.601972  \\t\"\"  \\t23-05-2018/10:12:20.0\n",
       "3   STAT_D  18.173916 -11.813449  466.670748  \\t\"\"  \\t23-05-2018/10:23:20.0\n",
       "4   STAT_C   2.877192  -5.965952  469.586943  \\t\"\"  \\t23-05-2018/10:33:34.0\n",
       "5  STAT_C2   0.511880  -9.249280  469.775024  \\t\"\"  \\t23-05-2018/10:38:48.0\n",
       "6   STAT_E -15.787432 -34.533820  480.906038  \\t\"\"  \\t23-05-2018/10:46:38.0\n",
       "7   STAT_G  -6.886332 -21.807620  473.114700  \\t\"\"  \\t23-05-2018/10:52:36.0\n",
       "8   STAT_Z -19.367646  23.139650  480.414074  \\t\"\"  \\t23-05-2018/15:08:45.0\n",
       "9   STAT_Y -15.191606  30.754630  482.186650  \\t\"\"  \\t23-05-2018/15:13:46.0"
      ]
     },
     "execution_count": 7,
     "metadata": {},
     "output_type": "execute_result"
    }
   ],
   "source": [
    "day1"
   ]
  },
  {
   "cell_type": "code",
   "execution_count": 14,
   "metadata": {},
   "outputs": [
    {
     "data": {
      "text/plain": [
       "<matplotlib.collections.PathCollection at 0x11cc6ceb8>"
      ]
     },
     "execution_count": 14,
     "metadata": {},
     "output_type": "execute_result"
    },
    {
     "data": {
      "image/png": "[encoded data removed]",
      "text/plain": [
       "<matplotlib.figure.Figure at 0x11c9c4588>"
      ]
     },
     "metadata": {},
     "output_type": "display_data"
    }
   ],
   "source": [
    "Station_S_A=[53691.99,98751.44]\n",
    "Station_S_B=[53667.3,98776.51]\n",
    "Station_S_C=[53664.71,98721.57]\n",
    "\n",
    "subplot(121)\n",
    "scatter(Station_S_A[0],Station_S_A[1])\n",
    "scatter(Station_S_B[0],Station_S_B[1])\n",
    "scatter(Station_S_C[0],Station_S_C[1])\n",
    "\n",
    "subplot(122)\n",
    "scatter(day1[day1.PointID=='STAT_E'].East,day1[day1.PointID=='STAT_E'].North)\n",
    "scatter(day1[day1.PointID=='STAT.A'].East,day1[day1.PointID=='STAT.A'].North)\n",
    "scatter(day1[day1.PointID=='STAT_C'].East,day1[day1.PointID=='STAT_C'].North)"
   ]
  },
  {
   "cell_type": "code",
   "execution_count": 32,
   "metadata": {},
   "outputs": [
    {
     "name": "stdout",
     "output_type": "stream",
     "text": [
      "GPS:\n",
      "A -> B :: 35.2\n",
      "A -> C :: 40.5\n",
      "B -> C :: 55.0\n",
      "\n",
      "Theodolith:\n",
      "A -> B :: 33.5\n",
      "A -> C :: 34.1\n",
      "B -> C :: 58.4\n"
     ]
    }
   ],
   "source": [
    "#calculating distance for rough check\n",
    "print('GPS:')\n",
    "print('A -> B :: '+str(np.round(sum((np.array(Station_S_A)-np.array(Station_S_B))**2)**0.5,1)))\n",
    "print('A -> C :: '+str(np.round(sum((np.array(Station_S_A)-np.array(Station_S_C))**2)**0.5,1)))\n",
    "print('B -> C :: '+str(np.round(sum((np.array(Station_S_C)-np.array(Station_S_B))**2)**0.5,1)))\n",
    "\n",
    "print('')\n",
    "print('Theodolith:')\n",
    "print('A -> B :: '+str(np.round(sum((day1.loc[day1.PointID=='STAT_C',['East','North']].values - day1.loc[day1.PointID=='STAT.A',['East','North']].values)**2)**0.5,1)))\n",
    "print('A -> C :: '+str(np.round(sum((day1.loc[day1.PointID=='STAT_E',['East','North']].values - day1.loc[day1.PointID=='STAT_C',['East','North']].values)**2)**0.5,1)))\n",
    "print('B -> C :: '+str(np.round(sum((day1.loc[day1.PointID=='STAT_E',['East','North']].values - day1.loc[day1.PointID=='STAT.A',['East','North']].values)**2)**0.5,1)))\n"
   ]
  },
  {
   "cell_type": "code",
   "execution_count": 39,
   "metadata": {},
   "outputs": [
    {
     "data": {
      "text/plain": [
       "[53683.112235333334, 98755.40558533334]"
      ]
     },
     "execution_count": 39,
     "metadata": {},
     "output_type": "execute_result"
    }
   ],
   "source": [
    "#Match the centerpoint of the triangle\n",
    "def centroid(A,B,C):\n",
    "    return [(A[0]+B[0]+C[0])/3, (A[1]+B[1]+C[1])/3]\n",
    "\n",
    "centroid_ref = centroid(Station_S_A,Station_S_B,Station_S_C)\n",
    "centroid_loc = centroid(day1.loc[day1.PointID=='STAT_C',['East','North']].values[0],day1.loc[day1.PointID=='STAT.A',['East','North']].values[0],day1.loc[day1.PointID=='STAT_E',['East','North']].values[0])\n",
    "\n",
    "offset = [centroid_ref[0] - centroid_loc[0],centroid_ref[1] - centroid_loc[1]]\n",
    "offset"
   ]
  },
  {
   "cell_type": "code",
   "execution_count": 41,
   "metadata": {},
   "outputs": [
    {
     "data": {
      "text/plain": [
       "Text(0.5,1,'Day 1')"
      ]
     },
     "execution_count": 41,
     "metadata": {},
     "output_type": "execute_result"
    },
    {
     "data": {
      "image/png": "[encoded data removed]",
      "text/plain": [
       "<matplotlib.figure.Figure at 0x11cd4b2b0>"
      ]
     },
     "metadata": {},
     "output_type": "display_data"
    }
   ],
   "source": [
    "scatter(day1.East+offset[0],day1.North+offset[1])\n",
    "scatter(Station_S_A[0],Station_S_A[1])\n",
    "scatter(Station_S_B[0],Station_S_B[1])\n",
    "scatter(Station_S_C[0],Station_S_C[1])\n",
    "title('Day 1')\n"
   ]
  },
  {
   "cell_type": "code",
   "execution_count": 50,
   "metadata": {},
   "outputs": [
    {
     "data": {
      "text/html": [
       "<div>\n",
       "<table border=\"1\" class=\"dataframe\">\n",
       "  <thead>\n",
       "    <tr style=\"text-align: right;\">\n",
       "      <th></th>\n",
       "      <th>PointID</th>\n",
       "      <th>East</th>\n",
       "      <th>North</th>\n",
       "      <th>Elevation</th>\n",
       "    </tr>\n",
       "  </thead>\n",
       "  <tbody>\n",
       "    <tr>\n",
       "      <th>0</th>\n",
       "      <td>STAT.A</td>\n",
       "      <td>53670.685769</td>\n",
       "      <td>98779.208601</td>\n",
       "      <td>479.402497</td>\n",
       "    </tr>\n",
       "    <tr>\n",
       "      <th>1</th>\n",
       "      <td>STAT_F</td>\n",
       "      <td>53676.071155</td>\n",
       "      <td>98770.145619</td>\n",
       "      <td>475.776000</td>\n",
       "    </tr>\n",
       "    <tr>\n",
       "      <th>2</th>\n",
       "      <td>STAT_B</td>\n",
       "      <td>53664.806403</td>\n",
       "      <td>98792.989998</td>\n",
       "      <td>484.601972</td>\n",
       "    </tr>\n",
       "    <tr>\n",
       "      <th>3</th>\n",
       "      <td>STAT_D</td>\n",
       "      <td>53701.286151</td>\n",
       "      <td>98743.592136</td>\n",
       "      <td>466.670748</td>\n",
       "    </tr>\n",
       "    <tr>\n",
       "      <th>4</th>\n",
       "      <td>STAT_C</td>\n",
       "      <td>53685.989427</td>\n",
       "      <td>98749.439633</td>\n",
       "      <td>469.586943</td>\n",
       "    </tr>\n",
       "    <tr>\n",
       "      <th>5</th>\n",
       "      <td>STAT_C2</td>\n",
       "      <td>53683.624115</td>\n",
       "      <td>98746.156305</td>\n",
       "      <td>469.775024</td>\n",
       "    </tr>\n",
       "    <tr>\n",
       "      <th>6</th>\n",
       "      <td>STAT_E</td>\n",
       "      <td>53667.324803</td>\n",
       "      <td>98720.871765</td>\n",
       "      <td>480.906038</td>\n",
       "    </tr>\n",
       "    <tr>\n",
       "      <th>7</th>\n",
       "      <td>STAT_G</td>\n",
       "      <td>53676.225903</td>\n",
       "      <td>98733.597965</td>\n",
       "      <td>473.114700</td>\n",
       "    </tr>\n",
       "    <tr>\n",
       "      <th>8</th>\n",
       "      <td>STAT_Z</td>\n",
       "      <td>53663.744589</td>\n",
       "      <td>98778.545235</td>\n",
       "      <td>480.414074</td>\n",
       "    </tr>\n",
       "    <tr>\n",
       "      <th>9</th>\n",
       "      <td>STAT_Y</td>\n",
       "      <td>53667.920629</td>\n",
       "      <td>98786.160215</td>\n",
       "      <td>482.186650</td>\n",
       "    </tr>\n",
       "  </tbody>\n",
       "</table>\n",
       "</div>"
      ],
      "text/plain": [
       "   PointID          East         North   Elevation\n",
       "0   STAT.A  53670.685769  98779.208601  479.402497\n",
       "1   STAT_F  53676.071155  98770.145619  475.776000\n",
       "2   STAT_B  53664.806403  98792.989998  484.601972\n",
       "3   STAT_D  53701.286151  98743.592136  466.670748\n",
       "4   STAT_C  53685.989427  98749.439633  469.586943\n",
       "5  STAT_C2  53683.624115  98746.156305  469.775024\n",
       "6   STAT_E  53667.324803  98720.871765  480.906038\n",
       "7   STAT_G  53676.225903  98733.597965  473.114700\n",
       "8   STAT_Z  53663.744589  98778.545235  480.414074\n",
       "9   STAT_Y  53667.920629  98786.160215  482.186650"
      ]
     },
     "execution_count": 50,
     "metadata": {},
     "output_type": "execute_result"
    }
   ],
   "source": [
    "day1_proj = day1[['PointID','East','North','Elevation']].copy()\n",
    "day1_proj['East']+=offset[0]\n",
    "day1_proj['North']+=offset[1]\n",
    "day1_proj"
   ]
  },
  {
   "cell_type": "markdown",
   "metadata": {},
   "source": [
    "## Day 2"
   ]
  },
  {
   "cell_type": "code",
   "execution_count": 5,
   "metadata": {},
   "outputs": [
    {
     "data": {
      "text/plain": [
       "Text(0.5,1,'Day 2')"
      ]
     },
     "execution_count": 5,
     "metadata": {},
     "output_type": "execute_result"
    },
    {
     "data": {
      "image/png": "[encoded data removed]",
      "text/plain": [
       "<matplotlib.figure.Figure at 0x11c0d4a90>"
      ]
     },
     "metadata": {},
     "output_type": "display_data"
    }
   ],
   "source": [
    "scatter(day2.loc[1:7,'East'],day2.loc[1:7,'North'])\n",
    "scatter(day2.loc[8:,'East']+50,day2.loc[8:,'North']-50)\n",
    "title('Day 2')"
   ]
  },
  {
   "cell_type": "code",
   "execution_count": 51,
   "metadata": {},
   "outputs": [
    {
     "data": {
      "text/html": [
       "<div>\n",
       "<table border=\"1\" class=\"dataframe\">\n",
       "  <thead>\n",
       "    <tr style=\"text-align: right;\">\n",
       "      <th></th>\n",
       "      <th>PointID</th>\n",
       "      <th>East</th>\n",
       "      <th>North</th>\n",
       "      <th>Elevation</th>\n",
       "      <th>Code</th>\n",
       "      <th>Date</th>\n",
       "    </tr>\n",
       "  </thead>\n",
       "  <tbody>\n",
       "    <tr>\n",
       "      <th>0</th>\n",
       "      <td>M_I</td>\n",
       "      <td>-2.379820</td>\n",
       "      <td>13.430886</td>\n",
       "      <td>200.412582</td>\n",
       "      <td>\\t\"\"</td>\n",
       "      <td>\\t24-05-2018/10:45:32.0</td>\n",
       "    </tr>\n",
       "    <tr>\n",
       "      <th>1</th>\n",
       "      <td>D</td>\n",
       "      <td>-7.649863</td>\n",
       "      <td>5.970404</td>\n",
       "      <td>199.627227</td>\n",
       "      <td>\\t\"\"</td>\n",
       "      <td>\\t24-05-2018/10:53:49.0</td>\n",
       "    </tr>\n",
       "    <tr>\n",
       "      <th>2</th>\n",
       "      <td>C</td>\n",
       "      <td>-19.946067</td>\n",
       "      <td>3.539241</td>\n",
       "      <td>197.023193</td>\n",
       "      <td>\\t\"\"</td>\n",
       "      <td>\\t24-05-2018/10:57:59.0</td>\n",
       "    </tr>\n",
       "    <tr>\n",
       "      <th>3</th>\n",
       "      <td>B</td>\n",
       "      <td>-30.441993</td>\n",
       "      <td>6.514711</td>\n",
       "      <td>195.267187</td>\n",
       "      <td>\\t\"\"</td>\n",
       "      <td>\\t24-05-2018/11:03:06.0</td>\n",
       "    </tr>\n",
       "    <tr>\n",
       "      <th>4</th>\n",
       "      <td>A</td>\n",
       "      <td>-40.520823</td>\n",
       "      <td>-2.023604</td>\n",
       "      <td>193.895030</td>\n",
       "      <td>\\t\"\"</td>\n",
       "      <td>\\t24-05-2018/11:12:32.0</td>\n",
       "    </tr>\n",
       "    <tr>\n",
       "      <th>5</th>\n",
       "      <td>E</td>\n",
       "      <td>19.638810</td>\n",
       "      <td>-1.890961</td>\n",
       "      <td>201.206764</td>\n",
       "      <td>\\t\"\"</td>\n",
       "      <td>\\t24-05-2018/11:20:09.0</td>\n",
       "    </tr>\n",
       "    <tr>\n",
       "      <th>6</th>\n",
       "      <td>F</td>\n",
       "      <td>35.332032</td>\n",
       "      <td>-3.830357</td>\n",
       "      <td>201.838613</td>\n",
       "      <td>\\t\"\"</td>\n",
       "      <td>\\t24-05-2018/11:26:30.0</td>\n",
       "    </tr>\n",
       "    <tr>\n",
       "      <th>7</th>\n",
       "      <td>G</td>\n",
       "      <td>44.888158</td>\n",
       "      <td>-36.300289</td>\n",
       "      <td>200.273741</td>\n",
       "      <td>\\t\"\"</td>\n",
       "      <td>\\t24-05-2018/11:31:16.0</td>\n",
       "    </tr>\n",
       "    <tr>\n",
       "      <th>8</th>\n",
       "      <td>H</td>\n",
       "      <td>14.133491</td>\n",
       "      <td>-7.538160</td>\n",
       "      <td>199.959463</td>\n",
       "      <td>\\t\"\"</td>\n",
       "      <td>\\t24-05-2018/12:02:09.0</td>\n",
       "    </tr>\n",
       "    <tr>\n",
       "      <th>9</th>\n",
       "      <td>I</td>\n",
       "      <td>2.214219</td>\n",
       "      <td>-31.024441</td>\n",
       "      <td>197.792322</td>\n",
       "      <td>\\t\"\"</td>\n",
       "      <td>\\t24-05-2018/12:07:08.0</td>\n",
       "    </tr>\n",
       "    <tr>\n",
       "      <th>10</th>\n",
       "      <td>J</td>\n",
       "      <td>5.994585</td>\n",
       "      <td>-47.325823</td>\n",
       "      <td>196.835777</td>\n",
       "      <td>\\t\"\"</td>\n",
       "      <td>\\t24-05-2018/12:11:20.0</td>\n",
       "    </tr>\n",
       "    <tr>\n",
       "      <th>11</th>\n",
       "      <td>K</td>\n",
       "      <td>6.395342</td>\n",
       "      <td>-67.497513</td>\n",
       "      <td>195.352327</td>\n",
       "      <td>\\t\"\"</td>\n",
       "      <td>\\t24-05-2018/12:14:49.0</td>\n",
       "    </tr>\n",
       "  </tbody>\n",
       "</table>\n",
       "</div>"
      ],
      "text/plain": [
       "   PointID       East      North   Elevation  Code                     Date\n",
       "0      M_I  -2.379820  13.430886  200.412582  \\t\"\"  \\t24-05-2018/10:45:32.0\n",
       "1        D  -7.649863   5.970404  199.627227  \\t\"\"  \\t24-05-2018/10:53:49.0\n",
       "2        C -19.946067   3.539241  197.023193  \\t\"\"  \\t24-05-2018/10:57:59.0\n",
       "3        B -30.441993   6.514711  195.267187  \\t\"\"  \\t24-05-2018/11:03:06.0\n",
       "4        A -40.520823  -2.023604  193.895030  \\t\"\"  \\t24-05-2018/11:12:32.0\n",
       "5        E  19.638810  -1.890961  201.206764  \\t\"\"  \\t24-05-2018/11:20:09.0\n",
       "6        F  35.332032  -3.830357  201.838613  \\t\"\"  \\t24-05-2018/11:26:30.0\n",
       "7        G  44.888158 -36.300289  200.273741  \\t\"\"  \\t24-05-2018/11:31:16.0\n",
       "8        H  14.133491  -7.538160  199.959463  \\t\"\"  \\t24-05-2018/12:02:09.0\n",
       "9        I   2.214219 -31.024441  197.792322  \\t\"\"  \\t24-05-2018/12:07:08.0\n",
       "10       J   5.994585 -47.325823  196.835777  \\t\"\"  \\t24-05-2018/12:11:20.0\n",
       "11       K   6.395342 -67.497513  195.352327  \\t\"\"  \\t24-05-2018/12:14:49.0"
      ]
     },
     "execution_count": 51,
     "metadata": {},
     "output_type": "execute_result"
    }
   ],
   "source": [
    "day2"
   ]
  },
  {
   "cell_type": "code",
   "execution_count": 60,
   "metadata": {},
   "outputs": [
    {
     "data": {
      "text/plain": [
       "[63330.97982, 90531.769114]"
      ]
     },
     "execution_count": 60,
     "metadata": {},
     "output_type": "execute_result"
    }
   ],
   "source": [
    "Station_M_I=[63328.6,90545.2]\n",
    "Station_M_K=[63383.84,90420.95]\n",
    "\n",
    "#single point offset correction\n",
    "offset2 = [Station_M_I[0] - day2.loc[day2.PointID=='M_I','East'].values[0], Station_M_I[1] - day2.loc[day2.PointID=='M_I','North'].values[0]]\n",
    "offset2"
   ]
  },
  {
   "cell_type": "code",
   "execution_count": 64,
   "metadata": {},
   "outputs": [
    {
     "data": {
      "text/plain": [
       "<matplotlib.collections.PathCollection at 0x11d32dba8>"
      ]
     },
     "execution_count": 64,
     "metadata": {},
     "output_type": "execute_result"
    },
    {
     "data": {
      "image/png": "[encoded data removed]",
      "text/plain": [
       "<matplotlib.figure.Figure at 0x11d1d0b38>"
      ]
     },
     "metadata": {},
     "output_type": "display_data"
    }
   ],
   "source": [
    "scatter(day2.loc[1:7,'East']+offset2[0],day2.loc[1:7,'North']+offset2[1])\n",
    "scatter(day2.loc[8:,'East']+50+offset2[0],day2.loc[8:,'North']-50+offset2[1])\n",
    "scatter(Station_M_I[0],Station_M_I[1])\n",
    "scatter(Station_M_K[0],Station_M_K[1])"
   ]
  },
  {
   "cell_type": "code",
   "execution_count": 66,
   "metadata": {},
   "outputs": [
    {
     "data": {
      "text/html": [
       "<div>\n",
       "<table border=\"1\" class=\"dataframe\">\n",
       "  <thead>\n",
       "    <tr style=\"text-align: right;\">\n",
       "      <th></th>\n",
       "      <th>PointID</th>\n",
       "      <th>East</th>\n",
       "      <th>North</th>\n",
       "      <th>Elevation</th>\n",
       "    </tr>\n",
       "  </thead>\n",
       "  <tbody>\n",
       "    <tr>\n",
       "      <th>0</th>\n",
       "      <td>M_I</td>\n",
       "      <td>63328.600000</td>\n",
       "      <td>90545.200000</td>\n",
       "      <td>289.512582</td>\n",
       "    </tr>\n",
       "    <tr>\n",
       "      <th>1</th>\n",
       "      <td>D</td>\n",
       "      <td>63323.329957</td>\n",
       "      <td>90537.739518</td>\n",
       "      <td>288.727227</td>\n",
       "    </tr>\n",
       "    <tr>\n",
       "      <th>2</th>\n",
       "      <td>C</td>\n",
       "      <td>63311.033753</td>\n",
       "      <td>90535.308355</td>\n",
       "      <td>286.123193</td>\n",
       "    </tr>\n",
       "    <tr>\n",
       "      <th>3</th>\n",
       "      <td>B</td>\n",
       "      <td>63300.537827</td>\n",
       "      <td>90538.283825</td>\n",
       "      <td>284.367187</td>\n",
       "    </tr>\n",
       "    <tr>\n",
       "      <th>4</th>\n",
       "      <td>A</td>\n",
       "      <td>63290.458997</td>\n",
       "      <td>90529.745510</td>\n",
       "      <td>282.995030</td>\n",
       "    </tr>\n",
       "    <tr>\n",
       "      <th>5</th>\n",
       "      <td>E</td>\n",
       "      <td>63350.618630</td>\n",
       "      <td>90529.878153</td>\n",
       "      <td>290.306764</td>\n",
       "    </tr>\n",
       "    <tr>\n",
       "      <th>6</th>\n",
       "      <td>F</td>\n",
       "      <td>63366.311852</td>\n",
       "      <td>90527.938757</td>\n",
       "      <td>290.938613</td>\n",
       "    </tr>\n",
       "    <tr>\n",
       "      <th>7</th>\n",
       "      <td>G</td>\n",
       "      <td>63375.867978</td>\n",
       "      <td>90495.468825</td>\n",
       "      <td>289.373741</td>\n",
       "    </tr>\n",
       "    <tr>\n",
       "      <th>8</th>\n",
       "      <td>H</td>\n",
       "      <td>63345.113311</td>\n",
       "      <td>90524.230954</td>\n",
       "      <td>289.059463</td>\n",
       "    </tr>\n",
       "    <tr>\n",
       "      <th>9</th>\n",
       "      <td>I</td>\n",
       "      <td>63333.194039</td>\n",
       "      <td>90500.744673</td>\n",
       "      <td>286.892322</td>\n",
       "    </tr>\n",
       "    <tr>\n",
       "      <th>10</th>\n",
       "      <td>J</td>\n",
       "      <td>63336.974405</td>\n",
       "      <td>90484.443291</td>\n",
       "      <td>285.935777</td>\n",
       "    </tr>\n",
       "    <tr>\n",
       "      <th>11</th>\n",
       "      <td>K</td>\n",
       "      <td>63337.375162</td>\n",
       "      <td>90464.271601</td>\n",
       "      <td>284.452327</td>\n",
       "    </tr>\n",
       "  </tbody>\n",
       "</table>\n",
       "</div>"
      ],
      "text/plain": [
       "   PointID          East         North   Elevation\n",
       "0      M_I  63328.600000  90545.200000  289.512582\n",
       "1        D  63323.329957  90537.739518  288.727227\n",
       "2        C  63311.033753  90535.308355  286.123193\n",
       "3        B  63300.537827  90538.283825  284.367187\n",
       "4        A  63290.458997  90529.745510  282.995030\n",
       "5        E  63350.618630  90529.878153  290.306764\n",
       "6        F  63366.311852  90527.938757  290.938613\n",
       "7        G  63375.867978  90495.468825  289.373741\n",
       "8        H  63345.113311  90524.230954  289.059463\n",
       "9        I  63333.194039  90500.744673  286.892322\n",
       "10       J  63336.974405  90484.443291  285.935777\n",
       "11       K  63337.375162  90464.271601  284.452327"
      ]
     },
     "execution_count": 66,
     "metadata": {},
     "output_type": "execute_result"
    }
   ],
   "source": [
    "day2_proj = day2[['PointID','East','North','Elevation']].copy()\n",
    "day2_proj['East']+=offset2[0]\n",
    "day2_proj['North']+=offset2[1]\n",
    "\n",
    "elev_M_I=289.3\n",
    "day2_proj['Elevation']+=89.1\n",
    "\n",
    "day2_proj"
   ]
  },
  {
   "cell_type": "code",
   "execution_count": 6,
   "metadata": {},
   "outputs": [
    {
     "data": {
      "text/plain": [
       "Text(0.5,1,'Day 3')"
      ]
     },
     "execution_count": 6,
     "metadata": {},
     "output_type": "execute_result"
    },
    {
     "data": {
      "image/png": "[encoded data removed]",
      "text/plain": [
       "<matplotlib.figure.Figure at 0x11c082cc0>"
      ]
     },
     "metadata": {},
     "output_type": "display_data"
    }
   ],
   "source": [
    "scatter(day3.East,day3.North)\n",
    "title('Day 3')"
   ]
  },
  {
   "cell_type": "code",
   "execution_count": 67,
   "metadata": {},
   "outputs": [
    {
     "data": {
      "text/html": [
       "<div>\n",
       "<table border=\"1\" class=\"dataframe\">\n",
       "  <thead>\n",
       "    <tr style=\"text-align: right;\">\n",
       "      <th></th>\n",
       "      <th>PointID</th>\n",
       "      <th>East</th>\n",
       "      <th>North</th>\n",
       "      <th>Elevation</th>\n",
       "      <th>Code</th>\n",
       "      <th>Date</th>\n",
       "    </tr>\n",
       "  </thead>\n",
       "  <tbody>\n",
       "    <tr>\n",
       "      <th>0</th>\n",
       "      <td>CROSSROAD</td>\n",
       "      <td>-17.569419</td>\n",
       "      <td>-25.476659</td>\n",
       "      <td>321.065338</td>\n",
       "      <td>\\t\"\"</td>\n",
       "      <td>\\t25-05-2018/11:11:53.0</td>\n",
       "    </tr>\n",
       "    <tr>\n",
       "      <th>1</th>\n",
       "      <td>SA_G</td>\n",
       "      <td>17.635964</td>\n",
       "      <td>-11.794465</td>\n",
       "      <td>317.734423</td>\n",
       "      <td>\\t\"\"</td>\n",
       "      <td>\\t25-05-2018/11:18:53.0</td>\n",
       "    </tr>\n",
       "    <tr>\n",
       "      <th>2</th>\n",
       "      <td>A</td>\n",
       "      <td>-1.883596</td>\n",
       "      <td>10.872507</td>\n",
       "      <td>319.417385</td>\n",
       "      <td>\\t\"\"</td>\n",
       "      <td>\\t25-05-2018/11:34:23.0</td>\n",
       "    </tr>\n",
       "    <tr>\n",
       "      <th>3</th>\n",
       "      <td>B</td>\n",
       "      <td>-2.874917</td>\n",
       "      <td>16.621616</td>\n",
       "      <td>319.512139</td>\n",
       "      <td>\\t\"\"</td>\n",
       "      <td>\\t25-05-2018/11:36:34.0</td>\n",
       "    </tr>\n",
       "    <tr>\n",
       "      <th>4</th>\n",
       "      <td>C</td>\n",
       "      <td>-7.356489</td>\n",
       "      <td>35.282747</td>\n",
       "      <td>321.980188</td>\n",
       "      <td>\\t\"\"</td>\n",
       "      <td>\\t25-05-2018/11:40:27.0</td>\n",
       "    </tr>\n",
       "    <tr>\n",
       "      <th>5</th>\n",
       "      <td>D</td>\n",
       "      <td>-10.915221</td>\n",
       "      <td>48.063924</td>\n",
       "      <td>324.193406</td>\n",
       "      <td>\\t\"\"</td>\n",
       "      <td>\\t25-05-2018/11:45:06.0</td>\n",
       "    </tr>\n",
       "    <tr>\n",
       "      <th>6</th>\n",
       "      <td>E</td>\n",
       "      <td>-12.755074</td>\n",
       "      <td>56.691657</td>\n",
       "      <td>326.555105</td>\n",
       "      <td>\\t\"\"</td>\n",
       "      <td>\\t25-05-2018/11:48:10.0</td>\n",
       "    </tr>\n",
       "    <tr>\n",
       "      <th>7</th>\n",
       "      <td>E1</td>\n",
       "      <td>-17.383040</td>\n",
       "      <td>83.674354</td>\n",
       "      <td>337.644586</td>\n",
       "      <td>\\t\"\"</td>\n",
       "      <td>\\t25-05-2018/11:52:05.0</td>\n",
       "    </tr>\n",
       "    <tr>\n",
       "      <th>8</th>\n",
       "      <td>F</td>\n",
       "      <td>-23.928007</td>\n",
       "      <td>113.702873</td>\n",
       "      <td>348.484229</td>\n",
       "      <td>\\t\"\"</td>\n",
       "      <td>\\t25-05-2018/12:00:16.0</td>\n",
       "    </tr>\n",
       "    <tr>\n",
       "      <th>9</th>\n",
       "      <td>SAG1</td>\n",
       "      <td>17.134626</td>\n",
       "      <td>-7.242567</td>\n",
       "      <td>318.028856</td>\n",
       "      <td>\\t\"\"</td>\n",
       "      <td>\\t25-05-2018/15:20:54.0</td>\n",
       "    </tr>\n",
       "    <tr>\n",
       "      <th>10</th>\n",
       "      <td>SAG2</td>\n",
       "      <td>27.133745</td>\n",
       "      <td>-6.367761</td>\n",
       "      <td>317.306137</td>\n",
       "      <td>\\t\"\"</td>\n",
       "      <td>\\t25-05-2018/15:24:19.0</td>\n",
       "    </tr>\n",
       "  </tbody>\n",
       "</table>\n",
       "</div>"
      ],
      "text/plain": [
       "      PointID       East       North   Elevation  Code  \\\n",
       "0   CROSSROAD -17.569419  -25.476659  321.065338  \\t\"\"   \n",
       "1        SA_G  17.635964  -11.794465  317.734423  \\t\"\"   \n",
       "2           A  -1.883596   10.872507  319.417385  \\t\"\"   \n",
       "3           B  -2.874917   16.621616  319.512139  \\t\"\"   \n",
       "4           C  -7.356489   35.282747  321.980188  \\t\"\"   \n",
       "5           D -10.915221   48.063924  324.193406  \\t\"\"   \n",
       "6           E -12.755074   56.691657  326.555105  \\t\"\"   \n",
       "7          E1 -17.383040   83.674354  337.644586  \\t\"\"   \n",
       "8           F -23.928007  113.702873  348.484229  \\t\"\"   \n",
       "9        SAG1  17.134626   -7.242567  318.028856  \\t\"\"   \n",
       "10       SAG2  27.133745   -6.367761  317.306137  \\t\"\"   \n",
       "\n",
       "                       Date  \n",
       "0   \\t25-05-2018/11:11:53.0  \n",
       "1   \\t25-05-2018/11:18:53.0  \n",
       "2   \\t25-05-2018/11:34:23.0  \n",
       "3   \\t25-05-2018/11:36:34.0  \n",
       "4   \\t25-05-2018/11:40:27.0  \n",
       "5   \\t25-05-2018/11:45:06.0  \n",
       "6   \\t25-05-2018/11:48:10.0  \n",
       "7   \\t25-05-2018/11:52:05.0  \n",
       "8   \\t25-05-2018/12:00:16.0  \n",
       "9   \\t25-05-2018/15:20:54.0  \n",
       "10  \\t25-05-2018/15:24:19.0  "
      ]
     },
     "execution_count": 67,
     "metadata": {},
     "output_type": "execute_result"
    }
   ],
   "source": [
    "day3"
   ]
  },
  {
   "cell_type": "code",
   "execution_count": 76,
   "metadata": {},
   "outputs": [
    {
     "data": {
      "text/plain": [
       "[60626.1517275, 85932.13556200001]"
      ]
     },
     "execution_count": 76,
     "metadata": {},
     "output_type": "execute_result"
    }
   ],
   "source": [
    "Crossroad=[60607.5,85908.1]\n",
    "Station_Sa_G=[60644.87,85918.9]\n",
    "\n",
    "#two point offset correction\n",
    "offset3a = [Crossroad[0] - day3.loc[day3.PointID=='CROSSROAD','East'].values[0], Crossroad[1] - day3.loc[day3.PointID=='CROSSROAD','North'].values[0]]\n",
    "offset3b = [Station_Sa_G[0] - day3.loc[day3.PointID=='SA_G','East'].values[0], Station_Sa_G[1] - day3.loc[day3.PointID=='SA_G','North'].values[0]]\n",
    "offset3 = [(offset3a[0]+offset3b[0])*0.5,(offset3a[1]+offset3b[1])*0.5]\n",
    "offset3"
   ]
  },
  {
   "cell_type": "code",
   "execution_count": 78,
   "metadata": {},
   "outputs": [
    {
     "data": {
      "text/plain": [
       "<matplotlib.collections.PathCollection at 0x11d889a20>"
      ]
     },
     "execution_count": 78,
     "metadata": {},
     "output_type": "execute_result"
    },
    {
     "data": {
      "image/png": "[encoded data removed]",
      "text/plain": [
       "<matplotlib.figure.Figure at 0x11d7e8b70>"
      ]
     },
     "metadata": {},
     "output_type": "display_data"
    }
   ],
   "source": [
    "scatter(day3.East+offset3[0],day3.North+offset3[1])\n",
    "scatter(Station_Sa_G[0],Station_Sa_G[1])\n",
    "scatter(Crossroad[0],Crossroad[1])"
   ]
  },
  {
   "cell_type": "code",
   "execution_count": 79,
   "metadata": {},
   "outputs": [
    {
     "data": {
      "text/html": [
       "<div>\n",
       "<table border=\"1\" class=\"dataframe\">\n",
       "  <thead>\n",
       "    <tr style=\"text-align: right;\">\n",
       "      <th></th>\n",
       "      <th>PointID</th>\n",
       "      <th>East</th>\n",
       "      <th>North</th>\n",
       "      <th>Elevation</th>\n",
       "    </tr>\n",
       "  </thead>\n",
       "  <tbody>\n",
       "    <tr>\n",
       "      <th>0</th>\n",
       "      <td>CROSSROAD</td>\n",
       "      <td>60608.582309</td>\n",
       "      <td>85906.658903</td>\n",
       "      <td>321.065338</td>\n",
       "    </tr>\n",
       "    <tr>\n",
       "      <th>1</th>\n",
       "      <td>SA_G</td>\n",
       "      <td>60643.787692</td>\n",
       "      <td>85920.341097</td>\n",
       "      <td>317.734423</td>\n",
       "    </tr>\n",
       "    <tr>\n",
       "      <th>2</th>\n",
       "      <td>A</td>\n",
       "      <td>60624.268132</td>\n",
       "      <td>85943.008069</td>\n",
       "      <td>319.417385</td>\n",
       "    </tr>\n",
       "    <tr>\n",
       "      <th>3</th>\n",
       "      <td>B</td>\n",
       "      <td>60623.276810</td>\n",
       "      <td>85948.757178</td>\n",
       "      <td>319.512139</td>\n",
       "    </tr>\n",
       "    <tr>\n",
       "      <th>4</th>\n",
       "      <td>C</td>\n",
       "      <td>60618.795239</td>\n",
       "      <td>85967.418309</td>\n",
       "      <td>321.980188</td>\n",
       "    </tr>\n",
       "    <tr>\n",
       "      <th>5</th>\n",
       "      <td>D</td>\n",
       "      <td>60615.236506</td>\n",
       "      <td>85980.199486</td>\n",
       "      <td>324.193406</td>\n",
       "    </tr>\n",
       "    <tr>\n",
       "      <th>6</th>\n",
       "      <td>E</td>\n",
       "      <td>60613.396653</td>\n",
       "      <td>85988.827219</td>\n",
       "      <td>326.555105</td>\n",
       "    </tr>\n",
       "    <tr>\n",
       "      <th>7</th>\n",
       "      <td>E1</td>\n",
       "      <td>60608.768687</td>\n",
       "      <td>86015.809916</td>\n",
       "      <td>337.644586</td>\n",
       "    </tr>\n",
       "    <tr>\n",
       "      <th>8</th>\n",
       "      <td>F</td>\n",
       "      <td>60602.223720</td>\n",
       "      <td>86045.838435</td>\n",
       "      <td>348.484229</td>\n",
       "    </tr>\n",
       "    <tr>\n",
       "      <th>9</th>\n",
       "      <td>SAG1</td>\n",
       "      <td>60643.286353</td>\n",
       "      <td>85924.892995</td>\n",
       "      <td>318.028856</td>\n",
       "    </tr>\n",
       "    <tr>\n",
       "      <th>10</th>\n",
       "      <td>SAG2</td>\n",
       "      <td>60653.285472</td>\n",
       "      <td>85925.767801</td>\n",
       "      <td>317.306137</td>\n",
       "    </tr>\n",
       "  </tbody>\n",
       "</table>\n",
       "</div>"
      ],
      "text/plain": [
       "      PointID          East         North   Elevation\n",
       "0   CROSSROAD  60608.582309  85906.658903  321.065338\n",
       "1        SA_G  60643.787692  85920.341097  317.734423\n",
       "2           A  60624.268132  85943.008069  319.417385\n",
       "3           B  60623.276810  85948.757178  319.512139\n",
       "4           C  60618.795239  85967.418309  321.980188\n",
       "5           D  60615.236506  85980.199486  324.193406\n",
       "6           E  60613.396653  85988.827219  326.555105\n",
       "7          E1  60608.768687  86015.809916  337.644586\n",
       "8           F  60602.223720  86045.838435  348.484229\n",
       "9        SAG1  60643.286353  85924.892995  318.028856\n",
       "10       SAG2  60653.285472  85925.767801  317.306137"
      ]
     },
     "execution_count": 79,
     "metadata": {},
     "output_type": "execute_result"
    }
   ],
   "source": [
    "day3_proj = day3[['PointID','East','North','Elevation']].copy()\n",
    "day3_proj['East']+=offset3[0]\n",
    "day3_proj['North']+=offset3[1]\n",
    "\n",
    "elev_crossroad=322.1\n",
    "#no elevantion correction required\n",
    "\n",
    "day3_proj"
   ]
  },
  {
   "cell_type": "code",
   "execution_count": 101,
   "metadata": {},
   "outputs": [],
   "source": [
    "#transform projection to lat/lon\n",
    "wgs84 = pyproj.Proj('+init=EPSG:4326') #LatLon WGS84\n",
    "lux1930 = pyproj.Proj('+init=EPSG:2169') #Luxembourg Gauss\n",
    "\n",
    "dummy = pyproj.transform(lux1930,wgs84,day1_proj.East.values,day1_proj.North.values)\n",
    "day1_proj['Lat']=dummy[0]\n",
    "day1_proj['Lon']=dummy[1]\n",
    "coords_d1 = [tuple(np.array(dummy)[:,i]) for i in np.arange(len(dummy[0]))]\n",
    "\n",
    "dummy = pyproj.transform(lux1930,wgs84,day2_proj.East.values,day2_proj.North.values)\n",
    "day2_proj['Lat']=dummy[0]\n",
    "day2_proj['Lon']=dummy[1]\n",
    "coords_d2 = [tuple(np.array(dummy)[:,i]) for i in np.arange(len(dummy[0]))]\n",
    "\n",
    "dummy = pyproj.transform(lux1930,wgs84,day3_proj.East.values,day3_proj.North.values)\n",
    "day3_proj['Lat']=dummy[0]\n",
    "day3_proj['Lon']=dummy[1]\n",
    "coords_d3 = [tuple(np.array(dummy)[:,i]) for i in np.arange(len(dummy[0]))]"
   ]
  },
  {
   "cell_type": "code",
   "execution_count": 89,
   "metadata": {},
   "outputs": [
    {
     "data": {
      "text/html": [
       "<div style=\"width:100%;\"><div style=\"position:relative;width:100%;height:0;padding-bottom:60%;\"><iframe src=\"data:text/html;charset=utf-8;base64,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\" style=\"position:absolute;width:100%;height:100%;left:0;top:0;border:none !important;\" allowfullscreen webkitallowfullscreen mozallowfullscreen></iframe></div></div>"
      ],
      "text/plain": [
       "<folium.folium.Map at 0x11cac3c88>"
      ]
     },
     "execution_count": 89,
     "metadata": {},
     "output_type": "execute_result"
    }
   ],
   "source": [
    "#plot map\n",
    "X_trans = pyproj.transform(lux1930,wgs84, 55000, 95000)\n",
    "xmap = folium.Map(location=[X_trans[1],X_trans[0]],tiles='Stamen Terrain',zoom_start=11)\n",
    "from folium.plugins import MarkerCluster\n",
    "xmap.add_children(MarkerCluster())"
   ]
  },
  {
   "cell_type": "code",
   "execution_count": null,
   "metadata": {},
   "outputs": [],
   "source": []
  }
 ],
 "metadata": {
  "kernelspec": {
   "display_name": "Python 3",
   "language": "python",
   "name": "python3"
  },
  "language_info": {
   "codemirror_mode": {
    "name": "ipython",
    "version": 3
   },
   "file_extension": ".py",
   "mimetype": "text/x-python",
   "name": "python",
   "nbconvert_exporter": "python",
   "pygments_lexer": "ipython3",
   "version": "3.6.3"
  }
 },
 "nbformat": 4,
 "nbformat_minor": 2
}
